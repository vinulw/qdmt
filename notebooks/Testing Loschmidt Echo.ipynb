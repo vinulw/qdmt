{
 "cells": [
  {
   "cell_type": "code",
   "execution_count": 1,
   "id": "d5500939",
   "metadata": {},
   "outputs": [],
   "source": [
    "%load_ext autoreload \n",
    "%autoreload 2"
   ]
  },
  {
   "cell_type": "code",
   "execution_count": 2,
   "id": "b1bf5b2a",
   "metadata": {},
   "outputs": [],
   "source": [
    "import sys\n",
    "sys.path.insert(0, '../qdmt/')"
   ]
  },
  {
   "cell_type": "code",
   "execution_count": 3,
   "id": "b267131e",
   "metadata": {},
   "outputs": [],
   "source": [
    "from uMPSHelpers import *\n",
    "from hamiltonian import TransverseIsing\n",
    "from vumps import vumps "
   ]
  },
  {
   "cell_type": "code",
   "execution_count": 4,
   "id": "6f7cb0bc",
   "metadata": {},
   "outputs": [],
   "source": [
    "import numpy as np\n",
    "import matplotlib.pyplot as plt\n",
    "from scipy.linalg import expm\n",
    "from tqdm import tqdm"
   ]
  },
  {
   "cell_type": "code",
   "execution_count": 5,
   "id": "26ca15fe",
   "metadata": {},
   "outputs": [],
   "source": [
    "def getOverlap(A, B):\n",
    "    D, d, _ = A.shape\n",
    "    TM = ncon([A, B.conj()], ((-1, 1, -3), (-2, 1, -4))).reshape(D*D, D*D)\n",
    "    Lambda,R = eigs(TM,k=1,which='LM')\n",
    "    return np.abs(Lambda)"
   ]
  },
  {
   "cell_type": "code",
   "execution_count": 6,
   "id": "8abbc200",
   "metadata": {},
   "outputs": [],
   "source": [
    "def get_TTrotter(A,B,U,U2,d,D):\n",
    "    \"\"\"Gives the time-evolved transfer matrix. TAU[ D,d,d,d,D,d,d,d]\n",
    "    This is for the first of the Z2 choices\"\"\"\n",
    "\n",
    "    \"\"\" Construct the mixed transfer matrix \"\"\"\n",
    "    T = ncon([A,A,U,U2,U,B.conj(),B.conj()],\\\n",
    "    ([-1, -2, 1],[1, 2, -7],\\\n",
    "    [-3, 3, 2, -8],[4, -10, 3, -9],[5, -11, -4, 4],\\\n",
    "    [-6, -5, 6],[6, 5, -12]))\n",
    "    T = T.reshape([D**2*d**4, D**2*d**4])\n",
    "    Lambda,R = eigs(T,k=1,which='LM')\n",
    "    return Lambda"
   ]
  },
  {
   "cell_type": "code",
   "execution_count": 7,
   "id": "1225918d",
   "metadata": {},
   "outputs": [],
   "source": [
    "def get_halfTrotter(A, B, U):\n",
    "    D, d, _ = A.shape\n",
    "    TM = ncon([A, A, U, B.conj(), B.conj()],\\\n",
    "              ((-1, 1, 3), (3, 5, -3),\\\n",
    "               (2, 6, 1, 5),\\\n",
    "               (-2, 2, 4), (4, 6, -4))).reshape(D**2, D**2)\n",
    "    Lambda,R = eigs(TM,k=1,which='LM')\n",
    "    return Lambda"
   ]
  },
  {
   "cell_type": "code",
   "execution_count": 8,
   "id": "cbdbc426",
   "metadata": {},
   "outputs": [],
   "source": [
    "g1 = 1.5\n",
    "g2 = 0.2\n",
    "D = 4\n",
    "d = 2"
   ]
  },
  {
   "cell_type": "code",
   "execution_count": 9,
   "id": "a193f584",
   "metadata": {},
   "outputs": [
    {
     "name": "stdout",
     "output_type": "stream",
     "text": [
      "iteration: 1\n",
      "   energy: -0.15165148268457262\n",
      "   error: 0.15265269819928956\n",
      "   errorL: 0.0025695736186852817\n",
      "   errorR: 0.004782948201650511\n",
      "iteration: 2\n",
      "   energy: -0.00045437623302667027\n",
      "   error: 0.002082660475595722\n",
      "   errorL: 0.00037490171754745583\n",
      "   errorR: 0.0007223341813266338\n",
      "iteration: 3\n",
      "   energy: -3.195341870678575e-05\n",
      "   error: 0.00035758420396206657\n",
      "   errorL: 5.022232740354917e-05\n",
      "   errorR: 7.141040903947808e-05\n",
      "iteration: 4\n",
      "   energy: -4.904262955116034e-07\n",
      "   error: 7.371903760064264e-05\n",
      "   errorL: 9.682404516050515e-06\n",
      "   errorR: 1.0889404696970532e-05\n",
      "iteration: 5\n",
      "   energy: -2.6079028530440196e-08\n",
      "   error: 1.536583191937256e-05\n",
      "   errorL: 1.9826242518123714e-06\n",
      "   errorR: 2.0611831553894817e-06\n",
      "iteration: 6\n",
      "   energy: -2.257468247057748e-09\n",
      "   error: 3.194457160596733e-06\n",
      "   errorL: 4.1060736876922575e-07\n",
      "   errorR: 4.170079747463395e-07\n",
      "iteration: 7\n",
      "   energy: -2.1186573329057268e-10\n",
      "   error: 6.623886656070094e-07\n",
      "   errorL: 8.50797484659098e-08\n",
      "   errorR: 8.567262296246502e-08\n",
      "iteration: 8\n",
      "   energy: -2.068505783325847e-11\n",
      "   error: 1.371381085656529e-07\n",
      "   errorL: 1.7612742342917405e-08\n",
      "   errorR: 1.7670351732684103e-08\n",
      "iteration: 9\n",
      "   energy: -2.0550956769671558e-12\n",
      "   error: 2.8369592669178628e-08\n",
      "   errorL: 3.643545643492468e-09\n",
      "   errorR: 3.6492244820094252e-09\n",
      "iteration: 10\n",
      "   energy: -2.0925622346013029e-13\n",
      "   error: 5.866433253365793e-09\n",
      "   errorL: 7.534449723043672e-10\n",
      "   errorR: 7.540069676976716e-10\n"
     ]
    }
   ],
   "source": [
    "# Prepare the ground state\n",
    "h1 = TransverseIsing(1, g1, 2).reshape(d, d, d, d)\n",
    "Al, Ac, Ar, C = vumps(h1, D, d, tol=1e-8, tolFactor=1e-2, verbose=True)"
   ]
  },
  {
   "cell_type": "code",
   "execution_count": 10,
   "id": "3583962d",
   "metadata": {},
   "outputs": [],
   "source": [
    "A0 = np.copy(Al)"
   ]
  },
  {
   "cell_type": "markdown",
   "id": "aad76810",
   "metadata": {},
   "source": [
    "Now do time evolution"
   ]
  },
  {
   "cell_type": "code",
   "execution_count": 11,
   "id": "f264370d",
   "metadata": {},
   "outputs": [],
   "source": [
    "h2 = TransverseIsing(1, g2, 2)\n",
    "dt = 0.1\n",
    "U = expm(-1j*h2*dt*2).reshape(d, d, d, d)"
   ]
  },
  {
   "cell_type": "code",
   "execution_count": 12,
   "id": "41eccbea",
   "metadata": {},
   "outputs": [],
   "source": [
    "def tevCostFunction(B, A, U):\n",
    "    l = len(B)\n",
    "    B = B[:l//2] + 1j*B[l//2:]\n",
    "    D, d, _ = A.shape\n",
    "    B = B.reshape(D, d, D)\n",
    "    B, _, _, _ = mixedCanonical(B)\n",
    "    B = normalizeMPS(B)\n",
    "    return np.abs(get_halfTrotter(A, B, U))"
   ]
  },
  {
   "cell_type": "code",
   "execution_count": 13,
   "id": "68001a0e",
   "metadata": {},
   "outputs": [],
   "source": [
    "from scipy.optimize import minimize\n",
    "from vumpt_tools import mixedCanonical"
   ]
  },
  {
   "cell_type": "code",
   "execution_count": 15,
   "id": "61a867bb",
   "metadata": {},
   "outputs": [
    {
     "name": "stderr",
     "output_type": "stream",
     "text": [
      "100%|████████████████████████████████████████████████████████████████████████████████████████████████████| 14/14 [20:17<00:00, 86.99s/it]\n"
     ]
    }
   ],
   "source": [
    "At = np.copy(A0)\n",
    "ts = np.arange(0.0, 1.5, dt)\n",
    "loverlaps = [getOverlap(A0, At)]\n",
    "Ats = [At]\n",
    "for t in tqdm(ts[1:]):\n",
    "    x0 = At.flatten()\n",
    "    x0 = np.concatenate((np.real(x0), np.imag(x0)))\n",
    "    res = minimize(tevCostFunction, x0=x0, args=(A0, U), method='Nelder-Mead', options={'maxiter':5000})\n",
    "    xdt = res.x\n",
    "    Adt = xdt[:D*d*D] + 1j*xdt[D*d*D:]\n",
    "    Adt = Adt.reshape(D, d, D)\n",
    "    Adt, _, _, _ = mixedCanonical(Adt)\n",
    "    Adt = normalizeMPS(Adt)\n",
    "\n",
    "    \n",
    "    loverlaps.append(getOverlap(A0, Adt))\n",
    "    Ats.append(Adt)\n",
    "    At = Adt"
   ]
  },
  {
   "cell_type": "code",
   "execution_count": 16,
   "id": "f0992295",
   "metadata": {},
   "outputs": [],
   "source": [
    "losch = -1*np.log(loverlaps)"
   ]
  },
  {
   "cell_type": "code",
   "execution_count": 17,
   "id": "c4bfc388",
   "metadata": {},
   "outputs": [
    {
     "data": {
      "text/plain": [
       "[<matplotlib.lines.Line2D at 0x7f7ee86645e0>]"
      ]
     },
     "execution_count": 17,
     "metadata": {},
     "output_type": "execute_result"
    },
    {
     "data": {
      "image/png": "[encoded data removed]",
      "text/plain": [
       "<Figure size 432x288 with 1 Axes>"
      ]
     },
     "metadata": {
      "needs_background": "light"
     },
     "output_type": "display_data"
    }
   ],
   "source": [
    "plt.plot(ts, losch)"
   ]
  },
  {
   "cell_type": "code",
   "execution_count": null,
   "id": "f8f0d3e2",
   "metadata": {},
   "outputs": [],
   "source": []
  }
 ],
 "metadata": {
  "kernelspec": {
   "display_name": "Python 3 (ipykernel)",
   "language": "python",
   "name": "python3"
  },
  "language_info": {
   "codemirror_mode": {
    "name": "ipython",
    "version": 3
   },
   "file_extension": ".py",
   "mimetype": "text/x-python",
   "name": "python",
   "nbconvert_exporter": "python",
   "pygments_lexer": "ipython3",
   "version": "3.8.10"
  }
 },
 "nbformat": 4,
 "nbformat_minor": 5
}
