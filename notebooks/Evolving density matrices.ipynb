{
 "cells": [
  {
   "cell_type": "code",
   "execution_count": 1,
   "id": "f229d1b0",
   "metadata": {},
   "outputs": [],
   "source": [
    "import sys\n",
    "sys.path.insert(0, '../qdmt/')"
   ]
  },
  {
   "cell_type": "code",
   "execution_count": 2,
   "id": "8a9bf67b",
   "metadata": {},
   "outputs": [],
   "source": [
    "from uMPSHelpers import *\n",
    "from optimise import genAContr"
   ]
  },
  {
   "cell_type": "code",
   "execution_count": 3,
   "id": "c5f789d7",
   "metadata": {},
   "outputs": [],
   "source": [
    "import numpy as np\n",
    "from scipy.stats import unitary_group"
   ]
  },
  {
   "cell_type": "code",
   "execution_count": 4,
   "id": "07de8129",
   "metadata": {},
   "outputs": [],
   "source": [
    "def uniformToRhoN(A, N, l=None, r=None):\n",
    "    '''\n",
    "    Generate $\\rho(A)_N$ which is the density matrix over $N$ sites.\n",
    "    '''\n",
    "    if l is None or r is None:\n",
    "        l, r = fixedPoints(A)\n",
    "    l, r = fixedPoints(A)\n",
    "\n",
    "    tensors = [l, *[A]*N, *[A.conj()]*N, r]\n",
    "    edges = [(2, 1)]\n",
    "    i = 3\n",
    "    edgesA = [(1, -1, i)]\n",
    "    edgesAdag = [(2, -N-1, i+1)]\n",
    "    i += 2\n",
    "    for j in range(N-1):\n",
    "        edgesA.append((i-2, -2-j, i))\n",
    "        edgesAdag.append((i-1, -N-2-j, i+1))\n",
    "        i += 2\n",
    "\n",
    "    i = edgesA[-1][2]\n",
    "    j = edgesAdag[-1][2]\n",
    "    edges = edges + edgesA + edgesAdag + [(i, j)]\n",
    "\n",
    "    print(edges)\n",
    "    return ncon(tensors, edges)\n"
   ]
  },
  {
   "cell_type": "markdown",
   "id": "63a2517a",
   "metadata": {},
   "source": [
    "## Implement evolution "
   ]
  },
  {
   "cell_type": "code",
   "execution_count": 5,
   "id": "9c47e22e",
   "metadata": {},
   "outputs": [],
   "source": [
    "# Initialise evolution unitary \n",
    "d = 2\n",
    "D = 4\n",
    "U = unitary_group.rvs(d**2)\n",
    "U_tensor = U.reshape(d, d, d, d)"
   ]
  },
  {
   "cell_type": "code",
   "execution_count": 6,
   "id": "819f1765",
   "metadata": {},
   "outputs": [],
   "source": [
    "A = createMPS(D, d)\n",
    "A = normalizeMPS(A)"
   ]
  },
  {
   "cell_type": "code",
   "execution_count": 7,
   "id": "8527644c",
   "metadata": {},
   "outputs": [
    {
     "name": "stdout",
     "output_type": "stream",
     "text": [
      "[(2, 1), (1, -1, 3), (3, -2, 5), (5, -3, 7), (7, -4, 9), (2, -5, 4), (4, -6, 6), (6, -7, 8), (8, -8, 10), (9, 10)]\n"
     ]
    }
   ],
   "source": [
    "N = 4\n",
    "rhoA = uniformToRhoN(A, N=N)"
   ]
  },
  {
   "cell_type": "code",
   "execution_count": 8,
   "id": "a304dafe",
   "metadata": {},
   "outputs": [],
   "source": [
    "rhoM = rhoA.reshape(d**N, d**N)"
   ]
  },
  {
   "cell_type": "code",
   "execution_count": 9,
   "id": "7f064f26",
   "metadata": {},
   "outputs": [],
   "source": [
    "UU = ncon([U, U], ((-1, -3), (-2, -4))).reshape(d**N, d**N)"
   ]
  },
  {
   "cell_type": "code",
   "execution_count": 10,
   "id": "3a7bde94",
   "metadata": {},
   "outputs": [],
   "source": [
    "rhoMUU = UU @ rhoM @ UU.conj().T\n",
    "rhoMUU = rhoMUU.reshape(*[d]*(N*2))"
   ]
  },
  {
   "cell_type": "code",
   "execution_count": 11,
   "id": "f41b5a69",
   "metadata": {},
   "outputs": [],
   "source": [
    "def evolve_rho_first_layer(A, U, N, l=None, r=None):\n",
    "    if l is None or r is None: \n",
    "        l, r = fixedPoints(A)\n",
    "        \n",
    "    assert N % 2 == 0, 'N needs to be even'\n",
    "    Acontr = genAContr(1, 3, 5, 4, N)\n",
    "    AdagContr = genAContr(2, 4, 6, 4, N)\n",
    "    # print('Adagcontr: ', AdagContr)\n",
    "    \n",
    "    botLeg1 = [a[1] for a in Acontr[::2]]\n",
    "    botLeg2 = [a[1] for a in Acontr[1::2]]\n",
    "    topLeg1 = range(-1, -1*N-1, -2)\n",
    "    topLeg2 = range(-2, -1*N-1, -2)\n",
    "    \n",
    "    Ucontr = [list(a) for a in zip(topLeg1, topLeg2, botLeg1, botLeg2)]\n",
    "    # print(Udagcontr)\n",
    "    \n",
    "    botLeg1 = [a[1] for a in AdagContr[::2]]\n",
    "    botLeg2 = [a[1] for a in AdagContr[1::2]]\n",
    "    topLeg1 = range(-7, -N-8, -2)\n",
    "    topLeg2 = range(-8, -N-9, -2)\n",
    "    \n",
    "    # print(topLeg1)\n",
    "    # print(list(topLeg1))\n",
    "    # print(topLeg2)\n",
    "    # print(list(topLeg2))\n",
    "    Udagcontr = [list(a) for a in zip(topLeg1, topLeg2, botLeg1, botLeg2)]\n",
    "    # print(Ucontr)\n",
    "    \n",
    "    tensors = [l] + [A]*N + [A.conj()]*N + [U.conj()]*(N//2) + [U]*(N//2) + [r]\n",
    "    contr = [[AdagContr[0][0], Acontr[0][0]]] + Acontr + AdagContr + Udagcontr + Ucontr + [[Acontr[-1][-1], AdagContr[-1][-1]]] \n",
    "    print(contr)\n",
    "    \n",
    "    return ncon(tensors, contr)"
   ]
  },
  {
   "cell_type": "code",
   "execution_count": 12,
   "id": "8f0c3781",
   "metadata": {},
   "outputs": [
    {
     "name": "stdout",
     "output_type": "stream",
     "text": [
      "[[2, 1], [1, 3, 5], [5, 7, 9], [9, 11, 13], [13, 15, 17], [2, 4, 6], [6, 8, 10], [10, 12, 14], [14, 16, 18], [-7, -8, 4, 8], [-9, -10, 12, 16], [-1, -2, 3, 7], [-3, -4, 11, 15], [17, 18]]\n"
     ]
    }
   ],
   "source": [
    "evolvedRhoTensor = evolve_rho_first_layer(A, U_tensor, 4)"
   ]
  },
  {
   "cell_type": "code",
   "execution_count": 13,
   "id": "0dcd533d",
   "metadata": {},
   "outputs": [],
   "source": [
    "tensors = [U_tensor, U_tensor, U_tensor.conj(), U_tensor.conj(), rhoA]\n",
    "contr = [\n",
    "    (-1, -2, 1, 2), (-3, -4, 3, 4), (-5, -6, 5, 6), (-7, -8, 7, 8), \n",
    "    (1, 2, 3, 4, 5, 6, 7, 8)\n",
    "]\n",
    "evolvedRhoUtensor = ncon(tensors, contr)"
   ]
  },
  {
   "cell_type": "code",
   "execution_count": 14,
   "id": "ca90fc8f",
   "metadata": {},
   "outputs": [
    {
     "data": {
      "text/plain": [
       "True"
      ]
     },
     "execution_count": 14,
     "metadata": {},
     "output_type": "execute_result"
    }
   ],
   "source": [
    "np.allclose(evolvedRhoTensor, evolvedRhoUtensor)"
   ]
  },
  {
   "cell_type": "code",
   "execution_count": 15,
   "id": "3032778e",
   "metadata": {},
   "outputs": [
    {
     "data": {
      "text/plain": [
       "True"
      ]
     },
     "execution_count": 15,
     "metadata": {},
     "output_type": "execute_result"
    }
   ],
   "source": [
    "np.allclose(rhoMUU, evolvedRhoTensor)"
   ]
  },
  {
   "cell_type": "code",
   "execution_count": 16,
   "id": "91f4cf2b",
   "metadata": {},
   "outputs": [
    {
     "data": {
      "text/plain": [
       "True"
      ]
     },
     "execution_count": 16,
     "metadata": {},
     "output_type": "execute_result"
    }
   ],
   "source": [
    "np.allclose(rhoMUU, evolvedRhoUtensor)"
   ]
  },
  {
   "cell_type": "code",
   "execution_count": 17,
   "id": "584db624",
   "metadata": {},
   "outputs": [],
   "source": [
    "testrhoMUU = ncon([UU, rhoM, UU.conj()], ((-1, 1), (1, 2), (-2, 2)))"
   ]
  },
  {
   "cell_type": "code",
   "execution_count": 18,
   "id": "5b2a6fd4",
   "metadata": {},
   "outputs": [
    {
     "data": {
      "text/plain": [
       "True"
      ]
     },
     "execution_count": 18,
     "metadata": {},
     "output_type": "execute_result"
    }
   ],
   "source": [
    "np.allclose(rhoMUU.reshape(d**N, d**N), testrhoMUU)"
   ]
  },
  {
   "cell_type": "markdown",
   "id": "110be036",
   "metadata": {},
   "source": [
    "## Apply even and odd unitaries"
   ]
  },
  {
   "cell_type": "code",
   "execution_count": 19,
   "id": "424e5077",
   "metadata": {},
   "outputs": [],
   "source": [
    "# Initialise evolution unitary \n",
    "d = 2\n",
    "D = 4\n",
    "N = 4\n",
    "U = unitary_group.rvs(d**2)\n",
    "U_tensor = U.reshape(d, d, d, d)"
   ]
  },
  {
   "cell_type": "code",
   "execution_count": 20,
   "id": "9e73205f",
   "metadata": {},
   "outputs": [],
   "source": [
    "A = createMPS(D, d)\n",
    "A = normalizeMPS(A)"
   ]
  },
  {
   "cell_type": "code",
   "execution_count": null,
   "id": "217ac3f6",
   "metadata": {},
   "outputs": [],
   "source": [
    "def evolve_rho_first_layer(A, U, N, l=None, r=None):\n",
    "    if l is None or r is None: \n",
    "        l, r = fixedPoints(A)\n",
    "        \n",
    "    assert N % 2 == 0, 'N needs to be even'\n",
    "    Acontr = genAContr(1, 3, 5, 4, N)\n",
    "    AdagContr = genAContr(2, 4, 6, 4, N)\n",
    "    \n",
    "    botLeg1 = [a[1] for a in Acontr[::2]]\n",
    "    botLeg2 = [a[1] for a in Acontr[1::2]]\n",
    "    topLeg1 = range(-1, -1*N-1, -2)\n",
    "    topLeg2 = range(-2, -1*N-1, -2)\n",
    "    \n",
    "    Ucontr = [list(a) for a in zip(topLeg1, topLeg2, botLeg1, botLeg2)]\n",
    "    \n",
    "    botLeg1 = [a[1] for a in AdagContr[::2]]\n",
    "    botLeg2 = [a[1] for a in AdagContr[1::2]]\n",
    "    topLeg1 = range(-7, -N-8, -2)\n",
    "    topLeg2 = range(-8, -N-9, -2)\n",
    "    \n",
    "    Udagcontr = [list(a) for a in zip(topLeg1, topLeg2, botLeg1, botLeg2)]\n",
    "    \n",
    "    tensors = [l] + [A]*N + [A.conj()]*N + [U.conj()]*(N//2) + [U]*(N//2) + [r]\n",
    "    contr = [[AdagContr[0][0], Acontr[0][0]]] + Acontr + AdagContr + Udagcontr + Ucontr + [[Acontr[-1][-1], AdagContr[-1][-1]]] \n",
    "    \n",
    "    print(contr)\n",
    "    return ncon(tensors, contr)"
   ]
  },
  {
   "cell_type": "code",
   "execution_count": 71,
   "id": "92eb8d56",
   "metadata": {},
   "outputs": [],
   "source": [
    "def genUContr(topLeft, topRight, botLeft, botRight, stepTop, stepBot, N=4):\n",
    "    Nu = N//2\n",
    "    \n",
    "    topLeft = range(topLeft, -Nu+topLeft-1, stepTop)\n",
    "    topRight = range(topRight, -Nu+topRight-1, stepTop)\n",
    "    botLeft = range(botLeft, botLeft + Nu*stepBot + 1, stepBot)\n",
    "    botRight = range(botRight, botRight + Nu*stepBot + 1, stepBot)\n",
    "    print(topLeft)\n",
    "    print(topRight)\n",
    "    print(botLeft)\n",
    "    print(botRight)\n",
    "    return [list(a) for a in zip(topLeft, topRight, botLeft, botRight)]\n",
    "    \n",
    "    "
   ]
  },
  {
   "cell_type": "code",
   "execution_count": 66,
   "id": "f5cf71b2",
   "metadata": {},
   "outputs": [],
   "source": [
    "Acontr = genAContr(1, 3, 5, 4, N)"
   ]
  },
  {
   "cell_type": "code",
   "execution_count": 61,
   "id": "f530096e",
   "metadata": {},
   "outputs": [
    {
     "data": {
      "text/plain": [
       "[[-1, -2, 3, 7], [-3, -4, 11, 15]]"
      ]
     },
     "execution_count": 61,
     "metadata": {},
     "output_type": "execute_result"
    }
   ],
   "source": [
    "genUContr(-1, -2, Acontr[0][1], Acontr[1][1], -2, 2*(Acontr[1][1] - Acontr[0][1]))"
   ]
  },
  {
   "cell_type": "code",
   "execution_count": 119,
   "id": "33131cdd",
   "metadata": {},
   "outputs": [],
   "source": [
    "N = 6"
   ]
  },
  {
   "cell_type": "code",
   "execution_count": 120,
   "id": "060a150c",
   "metadata": {},
   "outputs": [
    {
     "data": {
      "text/plain": [
       "[[1, 4, 7],\n",
       " [7, 10, 13],\n",
       " [13, 16, 19],\n",
       " [19, 22, 25],\n",
       " [25, 28, 31],\n",
       " [31, 34, 37]]"
      ]
     },
     "execution_count": 120,
     "metadata": {},
     "output_type": "execute_result"
    }
   ],
   "source": [
    "# Acontr\n",
    "AContr = genAContr(1, 4, 7, 6, N)\n",
    "AContr"
   ]
  },
  {
   "cell_type": "code",
   "execution_count": 121,
   "id": "b96d545b",
   "metadata": {
    "scrolled": true
   },
   "outputs": [
    {
     "data": {
      "text/plain": [
       "[[2, 5, 8],\n",
       " [8, 11, 14],\n",
       " [14, 17, 20],\n",
       " [20, 23, 26],\n",
       " [26, 29, 32],\n",
       " [32, 35, 38]]"
      ]
     },
     "execution_count": 121,
     "metadata": {},
     "output_type": "execute_result"
    }
   ],
   "source": [
    "# AdagContr\n",
    "ADagContr = genAContr(2, 5, 8, 6, N)\n",
    "ADagContr"
   ]
  },
  {
   "cell_type": "code",
   "execution_count": 122,
   "id": "b58e0047",
   "metadata": {},
   "outputs": [],
   "source": [
    "def genUContr(topLeft, topRight, botLeft, botRight, stepTop, stepBot, Nu=2):\n",
    "    \n",
    "    topLeft = range(topLeft, topLeft + stepTop*Nu, stepTop)\n",
    "    topRight = range(topRight, topRight + stepTop*Nu, stepTop)\n",
    "    botLeft = range(botLeft, botLeft + Nu*stepBot + 1, stepBot)\n",
    "    botRight = range(botRight, botRight + Nu*stepBot + 1, stepBot)\n",
    "    print(topLeft)\n",
    "    print(topRight)\n",
    "    print(botLeft)\n",
    "    print(botRight)\n",
    "    return [list(a) for a in zip(topLeft, topRight, botLeft, botRight)]\n",
    "    \n",
    "    "
   ]
  },
  {
   "cell_type": "code",
   "execution_count": 129,
   "id": "d3e74537",
   "metadata": {},
   "outputs": [
    {
     "name": "stdout",
     "output_type": "stream",
     "text": [
      "range(3, 39, 12)\n",
      "range(9, 45, 12)\n",
      "range(4, 41, 12)\n",
      "range(10, 47, 12)\n"
     ]
    },
    {
     "data": {
      "text/plain": [
       "[[3, 9, 4, 10], [15, 21, 16, 22], [27, 33, 28, 34]]"
      ]
     },
     "execution_count": 129,
     "metadata": {},
     "output_type": "execute_result"
    }
   ],
   "source": [
    "# Even layer U for A\n",
    "evenAContr = genUContr(3, 9, 4, 10, 12, 12, 3)\n",
    "#evenAContr[0][0] = -1\n",
    "#evenAContr[-1][1] = -N\n",
    "evenAContr"
   ]
  },
  {
   "cell_type": "code",
   "execution_count": 130,
   "id": "a5368332",
   "metadata": {},
   "outputs": [
    {
     "name": "stdout",
     "output_type": "stream",
     "text": [
      "range(-1, -5, -2)\n",
      "range(-2, -6, -2)\n",
      "range(9, 34, 12)\n",
      "range(15, 40, 12)\n"
     ]
    },
    {
     "data": {
      "text/plain": [
       "[[-1, -2, 9, 15], [-3, -4, 21, 27]]"
      ]
     },
     "execution_count": 130,
     "metadata": {},
     "output_type": "execute_result"
    }
   ],
   "source": [
    "# Odd layer U for A\n",
    "oddAContr = genUContr(-1, -2, 9, 15, -2, 12, 2)\n",
    "oddAContr"
   ]
  },
  {
   "cell_type": "code",
   "execution_count": 131,
   "id": "dd77679e",
   "metadata": {},
   "outputs": [
    {
     "name": "stdout",
     "output_type": "stream",
     "text": [
      "range(6, 42, 12)\n",
      "range(12, 48, 12)\n",
      "range(5, 42, 12)\n",
      "range(11, 48, 12)\n"
     ]
    },
    {
     "data": {
      "text/plain": [
       "[[3, 12, 5, 11], [18, 24, 17, 23], [30, 33, 29, 35]]"
      ]
     },
     "execution_count": 131,
     "metadata": {},
     "output_type": "execute_result"
    }
   ],
   "source": [
    "# Even layer for Adag\n",
    "evenADagContr = genUContr(6, 12, 5, 11, 12, 12, 3)\n",
    "evenADagContr[0][0] = evenAContr[0][0]\n",
    "evenADagContr[-1][1] = evenAContr[-1][1]\n",
    "evenADagContr"
   ]
  },
  {
   "cell_type": "code",
   "execution_count": 132,
   "id": "e49fe106",
   "metadata": {},
   "outputs": [
    {
     "name": "stdout",
     "output_type": "stream",
     "text": [
      "range(-5, -9, -2)\n",
      "range(-6, -10, -2)\n",
      "range(12, 37, 12)\n",
      "range(18, 43, 12)\n"
     ]
    },
    {
     "data": {
      "text/plain": [
       "[[-5, -6, 12, 18], [-7, -8, 24, 30]]"
      ]
     },
     "execution_count": 132,
     "metadata": {},
     "output_type": "execute_result"
    }
   ],
   "source": [
    "# Odd layer for Adag\n",
    "oddADagContr = genUContr(-5, -6, 12, 18, -2, 12, 2)\n",
    "oddADagContr"
   ]
  },
  {
   "cell_type": "code",
   "execution_count": 133,
   "id": "25e01bcd",
   "metadata": {},
   "outputs": [],
   "source": [
    "# l/r contr\n",
    "lcontr = [ADagContr[0][0], AContr[0][0]]\n",
    "rcontr = [AContr[-1][2], ADagContr[-1][2]]"
   ]
  },
  {
   "cell_type": "code",
   "execution_count": 134,
   "id": "01e74256",
   "metadata": {},
   "outputs": [
    {
     "name": "stdout",
     "output_type": "stream",
     "text": [
      "[2, 1]\n",
      "[37, 38]\n",
      "[[1, 4, 7], [7, 10, 13], [13, 16, 19], [19, 22, 25], [25, 28, 31], [31, 34, 37]]\n",
      "[[2, 5, 8], [8, 11, 14], [14, 17, 20], [20, 23, 26], [26, 29, 32], [32, 35, 38]]\n",
      "[[3, 9, 4, 10], [15, 21, 16, 22], [27, 33, 28, 34]]\n",
      "[[-1, -2, 9, 15], [-3, -4, 21, 27]]\n",
      "[[3, 12, 5, 11], [18, 24, 17, 23], [30, 33, 29, 35]]\n",
      "[[-5, -6, 12, 18], [-7, -8, 24, 30]]\n"
     ]
    }
   ],
   "source": [
    "print(lcontr)\n",
    "print(rcontr)\n",
    "print(AContr)\n",
    "print(ADagContr)\n",
    "print(evenAContr)\n",
    "print(oddAContr)\n",
    "print(evenADagContr)\n",
    "print(oddADagContr)"
   ]
  },
  {
   "cell_type": "code",
   "execution_count": null,
   "id": "1e32c572",
   "metadata": {},
   "outputs": [],
   "source": []
  }
 ],
 "metadata": {
  "kernelspec": {
   "display_name": "Python 3 (ipykernel)",
   "language": "python",
   "name": "python3"
  },
  "language_info": {
   "codemirror_mode": {
    "name": "ipython",
    "version": 3
   },
   "file_extension": ".py",
   "mimetype": "text/x-python",
   "name": "python",
   "nbconvert_exporter": "python",
   "pygments_lexer": "ipython3",
   "version": "3.8.10"
  }
 },
 "nbformat": 4,
 "nbformat_minor": 5
}
