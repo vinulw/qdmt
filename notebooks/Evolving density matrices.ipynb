{
 "cells": [
  {
   "cell_type": "code",
   "execution_count": 1,
   "id": "71fb74a8",
   "metadata": {},
   "outputs": [],
   "source": [
    "%load_ext autoreload \n",
    "%autoreload 2"
   ]
  },
  {
   "cell_type": "code",
   "execution_count": 2,
   "id": "f229d1b0",
   "metadata": {},
   "outputs": [],
   "source": [
    "import sys\n",
    "sys.path.insert(0, '../qdmt/')"
   ]
  },
  {
   "cell_type": "code",
   "execution_count": 3,
   "id": "8a9bf67b",
   "metadata": {},
   "outputs": [],
   "source": [
    "from uMPSHelpers import *\n",
    "from optimise import genAContr"
   ]
  },
  {
   "cell_type": "code",
   "execution_count": 4,
   "id": "c5f789d7",
   "metadata": {},
   "outputs": [],
   "source": [
    "import numpy as np\n",
    "from scipy.stats import unitary_group"
   ]
  },
  {
   "cell_type": "code",
   "execution_count": 5,
   "id": "07de8129",
   "metadata": {},
   "outputs": [],
   "source": [
    "def uniformToRhoN(A, N, l=None, r=None):\n",
    "    '''\n",
    "    Generate $\\rho(A)_N$ which is the density matrix over $N$ sites.\n",
    "    '''\n",
    "    if l is None or r is None:\n",
    "        l, r = fixedPoints(A)\n",
    "    l, r = fixedPoints(A)\n",
    "\n",
    "    tensors = [l, *[A]*N, *[A.conj()]*N, r]\n",
    "    edges = [(2, 1)]\n",
    "    i = 3\n",
    "    edgesA = [(1, -1, i)]\n",
    "    edgesAdag = [(2, -N-1, i+1)]\n",
    "    i += 2\n",
    "    for j in range(N-1):\n",
    "        edgesA.append((i-2, -2-j, i))\n",
    "        edgesAdag.append((i-1, -N-2-j, i+1))\n",
    "        i += 2\n",
    "\n",
    "    i = edgesA[-1][2]\n",
    "    j = edgesAdag[-1][2]\n",
    "    edges = edges + edgesA + edgesAdag + [(i, j)]\n",
    "    return ncon(tensors, edges)\n"
   ]
  },
  {
   "cell_type": "markdown",
   "id": "63a2517a",
   "metadata": {},
   "source": [
    "## Implement evolution "
   ]
  },
  {
   "cell_type": "code",
   "execution_count": 6,
   "id": "9c47e22e",
   "metadata": {},
   "outputs": [],
   "source": [
    "# Initialise evolution unitary \n",
    "d = 2\n",
    "D = 4\n",
    "U = unitary_group.rvs(d**2)\n",
    "U_tensor = U.reshape(d, d, d, d)"
   ]
  },
  {
   "cell_type": "code",
   "execution_count": 7,
   "id": "819f1765",
   "metadata": {},
   "outputs": [],
   "source": [
    "A = createMPS(D, d)\n",
    "A = normalizeMPS(A)"
   ]
  },
  {
   "cell_type": "code",
   "execution_count": 8,
   "id": "8527644c",
   "metadata": {},
   "outputs": [],
   "source": [
    "N = 4\n",
    "rhoA = uniformToRhoN(A, N=N)"
   ]
  },
  {
   "cell_type": "code",
   "execution_count": 9,
   "id": "a304dafe",
   "metadata": {},
   "outputs": [],
   "source": [
    "rhoM = rhoA.reshape(d**N, d**N)"
   ]
  },
  {
   "cell_type": "code",
   "execution_count": 10,
   "id": "7f064f26",
   "metadata": {},
   "outputs": [],
   "source": [
    "UU = ncon([U, U], ((-1, -3), (-2, -4))).reshape(d**N, d**N)"
   ]
  },
  {
   "cell_type": "code",
   "execution_count": 11,
   "id": "3a7bde94",
   "metadata": {},
   "outputs": [],
   "source": [
    "rhoMUU = UU @ rhoM @ UU.conj().T\n",
    "rhoMUU = rhoMUU.reshape(*[d]*(N*2))"
   ]
  },
  {
   "cell_type": "code",
   "execution_count": 12,
   "id": "f41b5a69",
   "metadata": {},
   "outputs": [],
   "source": [
    "def evolve_rho_first_layer(A, U, N, l=None, r=None):\n",
    "    if l is None or r is None: \n",
    "        l, r = fixedPoints(A)\n",
    "        \n",
    "    assert N % 2 == 0, 'N needs to be even'\n",
    "    Acontr = genAContr(1, 3, 5, 4, N)\n",
    "    AdagContr = genAContr(2, 4, 6, 4, N)\n",
    "    # print('Adagcontr: ', AdagContr)\n",
    "    \n",
    "    botLeg1 = [a[1] for a in Acontr[::2]]\n",
    "    botLeg2 = [a[1] for a in Acontr[1::2]]\n",
    "    topLeg1 = range(-1, -1*N-1, -2)\n",
    "    topLeg2 = range(-2, -1*N-1, -2)\n",
    "    \n",
    "    Ucontr = [list(a) for a in zip(topLeg1, topLeg2, botLeg1, botLeg2)]\n",
    "    # print(Udagcontr)\n",
    "    \n",
    "    botLeg1 = [a[1] for a in AdagContr[::2]]\n",
    "    botLeg2 = [a[1] for a in AdagContr[1::2]]\n",
    "    topLeg1 = range(-7, -N-8, -2)\n",
    "    topLeg2 = range(-8, -N-9, -2)\n",
    "    \n",
    "    # print(topLeg1)\n",
    "    # print(list(topLeg1))\n",
    "    # print(topLeg2)\n",
    "    # print(list(topLeg2))\n",
    "    Udagcontr = [list(a) for a in zip(topLeg1, topLeg2, botLeg1, botLeg2)]\n",
    "    # print(Ucontr)\n",
    "    \n",
    "    tensors = [l] + [A]*N + [A.conj()]*N + [U.conj()]*(N//2) + [U]*(N//2) + [r]\n",
    "    contr = [[AdagContr[0][0], Acontr[0][0]]] + Acontr + AdagContr + Udagcontr + Ucontr + [[Acontr[-1][-1], AdagContr[-1][-1]]] \n",
    "    print(contr)\n",
    "    \n",
    "    return ncon(tensors, contr)"
   ]
  },
  {
   "cell_type": "code",
   "execution_count": 13,
   "id": "8f0c3781",
   "metadata": {},
   "outputs": [
    {
     "name": "stdout",
     "output_type": "stream",
     "text": [
      "[[2, 1], [1, 3, 5], [5, 7, 9], [9, 11, 13], [13, 15, 17], [2, 4, 6], [6, 8, 10], [10, 12, 14], [14, 16, 18], [-7, -8, 4, 8], [-9, -10, 12, 16], [-1, -2, 3, 7], [-3, -4, 11, 15], [17, 18]]\n"
     ]
    }
   ],
   "source": [
    "evolvedRhoTensor = evolve_rho_first_layer(A, U_tensor, 4)"
   ]
  },
  {
   "cell_type": "code",
   "execution_count": 14,
   "id": "0dcd533d",
   "metadata": {},
   "outputs": [],
   "source": [
    "tensors = [U_tensor, U_tensor, U_tensor.conj(), U_tensor.conj(), rhoA]\n",
    "contr = [\n",
    "    (-1, -2, 1, 2), (-3, -4, 3, 4), (-5, -6, 5, 6), (-7, -8, 7, 8), \n",
    "    (1, 2, 3, 4, 5, 6, 7, 8)\n",
    "]\n",
    "evolvedRhoUtensor = ncon(tensors, contr)"
   ]
  },
  {
   "cell_type": "code",
   "execution_count": 15,
   "id": "ca90fc8f",
   "metadata": {},
   "outputs": [
    {
     "data": {
      "text/plain": [
       "True"
      ]
     },
     "execution_count": 15,
     "metadata": {},
     "output_type": "execute_result"
    }
   ],
   "source": [
    "np.allclose(evolvedRhoTensor, evolvedRhoUtensor)"
   ]
  },
  {
   "cell_type": "code",
   "execution_count": 16,
   "id": "3032778e",
   "metadata": {},
   "outputs": [
    {
     "data": {
      "text/plain": [
       "True"
      ]
     },
     "execution_count": 16,
     "metadata": {},
     "output_type": "execute_result"
    }
   ],
   "source": [
    "np.allclose(rhoMUU, evolvedRhoTensor)"
   ]
  },
  {
   "cell_type": "code",
   "execution_count": 17,
   "id": "91f4cf2b",
   "metadata": {},
   "outputs": [
    {
     "data": {
      "text/plain": [
       "True"
      ]
     },
     "execution_count": 17,
     "metadata": {},
     "output_type": "execute_result"
    }
   ],
   "source": [
    "np.allclose(rhoMUU, evolvedRhoUtensor)"
   ]
  },
  {
   "cell_type": "code",
   "execution_count": 18,
   "id": "584db624",
   "metadata": {},
   "outputs": [],
   "source": [
    "testrhoMUU = ncon([UU, rhoM, UU.conj()], ((-1, 1), (1, 2), (-2, 2)))"
   ]
  },
  {
   "cell_type": "code",
   "execution_count": 19,
   "id": "5b2a6fd4",
   "metadata": {},
   "outputs": [
    {
     "data": {
      "text/plain": [
       "True"
      ]
     },
     "execution_count": 19,
     "metadata": {},
     "output_type": "execute_result"
    }
   ],
   "source": [
    "np.allclose(rhoMUU.reshape(d**N, d**N), testrhoMUU)"
   ]
  },
  {
   "cell_type": "markdown",
   "id": "110be036",
   "metadata": {},
   "source": [
    "## Apply even and odd unitaries"
   ]
  },
  {
   "cell_type": "code",
   "execution_count": 6,
   "id": "424e5077",
   "metadata": {},
   "outputs": [],
   "source": [
    "# Initialise evolution unitary \n",
    "d = 2\n",
    "D = 4\n",
    "U1 = unitary_group.rvs(d**2)\n",
    "U1ten = U1.reshape(d, d, d, d)\n",
    "U2 = unitary_group.rvs(d**2)\n",
    "U2ten = U2.reshape(d, d, d, d)\n",
    "\n",
    "A = createMPS(D, d)\n",
    "A = normalizeMPS(A)\n",
    "l, r = fixedPoints(A)\n",
    "N = 6"
   ]
  },
  {
   "cell_type": "code",
   "execution_count": 7,
   "id": "060a150c",
   "metadata": {},
   "outputs": [
    {
     "data": {
      "text/plain": [
       "[[1, 4, 7],\n",
       " [7, 10, 13],\n",
       " [13, 16, 19],\n",
       " [19, 22, 25],\n",
       " [25, 28, 31],\n",
       " [31, 34, 37]]"
      ]
     },
     "execution_count": 7,
     "metadata": {},
     "output_type": "execute_result"
    }
   ],
   "source": [
    "# Acontr\n",
    "AContr = genAContr(1, 4, 7, 6, N)\n",
    "AContr"
   ]
  },
  {
   "cell_type": "code",
   "execution_count": 8,
   "id": "b96d545b",
   "metadata": {
    "scrolled": true
   },
   "outputs": [
    {
     "data": {
      "text/plain": [
       "[[2, 5, 8],\n",
       " [8, 11, 14],\n",
       " [14, 17, 20],\n",
       " [20, 23, 26],\n",
       " [26, 29, 32],\n",
       " [32, 35, 38]]"
      ]
     },
     "execution_count": 8,
     "metadata": {},
     "output_type": "execute_result"
    }
   ],
   "source": [
    "# AdagContr\n",
    "ADagContr = genAContr(2, 5, 8, 6, N)\n",
    "ADagContr"
   ]
  },
  {
   "cell_type": "code",
   "execution_count": 9,
   "id": "b58e0047",
   "metadata": {},
   "outputs": [],
   "source": [
    "def genUContr(topLeft, topRight, botLeft, botRight, stepTop, stepBot, Nu=2):\n",
    "    \n",
    "    topLeft = range(topLeft, topLeft + stepTop*Nu, stepTop)\n",
    "    topRight = range(topRight, topRight + stepTop*Nu, stepTop)\n",
    "    botLeft = range(botLeft, botLeft + Nu*stepBot + 1, stepBot)\n",
    "    botRight = range(botRight, botRight + Nu*stepBot + 1, stepBot)\n",
    "    return [list(a) for a in zip(topLeft, topRight, botLeft, botRight)]"
   ]
  },
  {
   "cell_type": "code",
   "execution_count": 10,
   "id": "d3e74537",
   "metadata": {},
   "outputs": [
    {
     "data": {
      "text/plain": [
       "[[3, 9, 4, 10], [15, 21, 16, 22], [27, 33, 28, 34]]"
      ]
     },
     "execution_count": 10,
     "metadata": {},
     "output_type": "execute_result"
    }
   ],
   "source": [
    "# Even layer U for A\n",
    "evenAContr = genUContr(3, 9, 4, 10, 12, 12, 3)\n",
    "#evenAContr[0][0] = -1\n",
    "#evenAContr[-1][1] = -N\n",
    "evenAContr"
   ]
  },
  {
   "cell_type": "code",
   "execution_count": 11,
   "id": "a5368332",
   "metadata": {},
   "outputs": [
    {
     "data": {
      "text/plain": [
       "[[-1, -2, 9, 15], [-3, -4, 21, 27]]"
      ]
     },
     "execution_count": 11,
     "metadata": {},
     "output_type": "execute_result"
    }
   ],
   "source": [
    "# Odd layer U for A\n",
    "oddAContr = genUContr(-1, -2, 9, 15, -2, 12, 2)\n",
    "oddAContr"
   ]
  },
  {
   "cell_type": "code",
   "execution_count": 12,
   "id": "dd77679e",
   "metadata": {},
   "outputs": [
    {
     "data": {
      "text/plain": [
       "[[3, 12, 5, 11], [18, 24, 17, 23], [30, 33, 29, 35]]"
      ]
     },
     "execution_count": 12,
     "metadata": {},
     "output_type": "execute_result"
    }
   ],
   "source": [
    "# Even layer for Adag\n",
    "evenADagContr = genUContr(6, 12, 5, 11, 12, 12, 3)\n",
    "evenADagContr[0][0] = evenAContr[0][0]\n",
    "evenADagContr[-1][1] = evenAContr[-1][1]\n",
    "evenADagContr"
   ]
  },
  {
   "cell_type": "code",
   "execution_count": 13,
   "id": "e49fe106",
   "metadata": {},
   "outputs": [
    {
     "data": {
      "text/plain": [
       "[[-5, -6, 12, 18], [-7, -8, 24, 30]]"
      ]
     },
     "execution_count": 13,
     "metadata": {},
     "output_type": "execute_result"
    }
   ],
   "source": [
    "# Odd layer for Adag\n",
    "oddADagContr = genUContr(-5, -6, 12, 18, -2, 12, 2)\n",
    "oddADagContr"
   ]
  },
  {
   "cell_type": "code",
   "execution_count": 14,
   "id": "25e01bcd",
   "metadata": {},
   "outputs": [],
   "source": [
    "# l/r contr\n",
    "lcontr = [ADagContr[0][0], AContr[0][0]]\n",
    "rcontr = [AContr[-1][2], ADagContr[-1][2]]"
   ]
  },
  {
   "cell_type": "code",
   "execution_count": 15,
   "id": "01e74256",
   "metadata": {},
   "outputs": [
    {
     "data": {
      "text/plain": [
       "'\\nprint(lcontr)\\nprint(rcontr)\\nprint(AContr)\\nprint(ADagContr)\\nprint(evenAContr)\\nprint(oddAContr)\\nprint(evenADagContr)\\nprint(oddADagContr)\\n'"
      ]
     },
     "execution_count": 15,
     "metadata": {},
     "output_type": "execute_result"
    }
   ],
   "source": [
    "'''\n",
    "print(lcontr)\n",
    "print(rcontr)\n",
    "print(AContr)\n",
    "print(ADagContr)\n",
    "print(evenAContr)\n",
    "print(oddAContr)\n",
    "print(evenADagContr)\n",
    "print(oddADagContr)\n",
    "'''"
   ]
  },
  {
   "cell_type": "code",
   "execution_count": 16,
   "id": "66a52faf",
   "metadata": {},
   "outputs": [],
   "source": [
    "rho6 = uniformToRhoN(A, N, l=l, r=r).reshape(d**N, d**N)\n",
    "I = np.eye(2, dtype=complex)"
   ]
  },
  {
   "cell_type": "code",
   "execution_count": 17,
   "id": "3bae9674",
   "metadata": {},
   "outputs": [],
   "source": [
    "UUU = ncon([U1ten, U1ten, U1ten], [(-1, -2, -7, -8), (-3, -4, -9, -10), (-5, -6, -11, -12)]).reshape(d**N, d**N)\n",
    "IUUI = ncon([I, U2ten, U2ten, I], [(-1, -7), (-2, -3, -8, -9), (-4, -5, -10, -11), (-6, -12)]).reshape(d**N, d**N)"
   ]
  },
  {
   "cell_type": "code",
   "execution_count": 18,
   "id": "4978a4cc",
   "metadata": {},
   "outputs": [],
   "source": [
    "evolvedRho6 = IUUI @ UUU @ rho6 @ UUU.conj().T @ IUUI.conj().T\n",
    "evolvedRho6 = evolvedRho6.reshape([d]*(2*N))\n",
    "evolvedRho6 = ncon([evolvedRho6,], ((1, -1, -2, -3, -4, 2, 1, -5, -6, -7, -8, 2),))"
   ]
  },
  {
   "cell_type": "code",
   "execution_count": 19,
   "id": "21fa237d",
   "metadata": {},
   "outputs": [],
   "source": [
    "tensors = [l, r] + [A]*N + [A.conj()]*N + [U1ten]*3 + [U2ten]*2 + [U1ten.conj()]*3 + [U2ten.conj()]*2 \n",
    "contr = [lcontr, rcontr] + AContr + ADagContr + evenAContr + oddAContr + evenADagContr + oddADagContr"
   ]
  },
  {
   "cell_type": "code",
   "execution_count": 20,
   "id": "7daf3db0",
   "metadata": {
    "scrolled": true
   },
   "outputs": [],
   "source": [
    "evolvedRho6Ten = ncon(tensors, contr)"
   ]
  },
  {
   "cell_type": "code",
   "execution_count": 21,
   "id": "094c3794",
   "metadata": {},
   "outputs": [
    {
     "name": "stdout",
     "output_type": "stream",
     "text": [
      "[[2, 1], [37, 38], [1, 4, 7], [7, 10, 13], [13, 16, 19], [19, 22, 25], [25, 28, 31], [31, 34, 37], [2, 5, 8], [8, 11, 14], [14, 17, 20], [20, 23, 26], [26, 29, 32], [32, 35, 38], [3, 9, 4, 10], [15, 21, 16, 22], [27, 33, 28, 34], [-1, -2, 9, 15], [-3, -4, 21, 27], [3, 12, 5, 11], [18, 24, 17, 23], [30, 33, 29, 35], [-5, -6, 12, 18], [-7, -8, 24, 30]]\n"
     ]
    }
   ],
   "source": [
    "print(contr)"
   ]
  },
  {
   "cell_type": "code",
   "execution_count": 22,
   "id": "fc06b4e6",
   "metadata": {},
   "outputs": [
    {
     "data": {
      "text/plain": [
       "True"
      ]
     },
     "execution_count": 22,
     "metadata": {},
     "output_type": "execute_result"
    }
   ],
   "source": [
    "np.allclose(evolvedRho6, evolvedRho6Ten)"
   ]
  },
  {
   "cell_type": "code",
   "execution_count": 23,
   "id": "a60644d8",
   "metadata": {},
   "outputs": [],
   "source": [
    "from evolve import firstOrderTrotterEvolve"
   ]
  },
  {
   "cell_type": "code",
   "execution_count": 24,
   "id": "a4254848",
   "metadata": {},
   "outputs": [
    {
     "name": "stdout",
     "output_type": "stream",
     "text": [
      "[[2, 1], [37, 38], [1, 4, 7], [7, 10, 13], [13, 16, 19], [19, 22, 25], [25, 28, 31], [31, 34, 37], [2, 5, 8], [8, 11, 14], [14, 17, 20], [20, 23, 26], [26, 29, 32], [32, 35, 38], [3, 9, 4, 10], [15, 21, 16, 22], [27, 33, 28, 34], [-1, -2, 9, 15], [-3, -4, 21, 27], [3, 12, 5, 11], [18, 24, 17, 23], [30, 33, 29, 35], [-5, -6, 12, 18], [-7, -8, 24, 30]]\n"
     ]
    }
   ],
   "source": [
    "evolvedCode = firstOrderTrotterEvolve(A, U1, U2, 4, l, r)"
   ]
  },
  {
   "cell_type": "code",
   "execution_count": 25,
   "id": "d31af03f",
   "metadata": {},
   "outputs": [
    {
     "data": {
      "text/plain": [
       "(2, 2, 2, 2, 2, 2, 2, 2)"
      ]
     },
     "execution_count": 25,
     "metadata": {},
     "output_type": "execute_result"
    }
   ],
   "source": [
    "evolvedCode.shape"
   ]
  },
  {
   "cell_type": "code",
   "execution_count": 26,
   "id": "b3bbe18d",
   "metadata": {},
   "outputs": [
    {
     "data": {
      "text/plain": [
       "5.480779506258892e-16"
      ]
     },
     "execution_count": 26,
     "metadata": {},
     "output_type": "execute_result"
    }
   ],
   "source": [
    "np.linalg.norm(evolvedCode - evolvedRho6)"
   ]
  },
  {
   "cell_type": "code",
   "execution_count": 35,
   "id": "1543b585",
   "metadata": {},
   "outputs": [
    {
     "data": {
      "text/plain": [
       "True"
      ]
     },
     "execution_count": 35,
     "metadata": {},
     "output_type": "execute_result"
    }
   ],
   "source": [
    "np.allclose(evolvedRho6, evolvedCode)"
   ]
  },
  {
   "cell_type": "code",
   "execution_count": 36,
   "id": "bf592966",
   "metadata": {},
   "outputs": [
    {
     "data": {
      "text/plain": [
       "True"
      ]
     },
     "execution_count": 36,
     "metadata": {},
     "output_type": "execute_result"
    }
   ],
   "source": [
    "np.allclose(evolvedRho6Ten, evolvedCode)"
   ]
  },
  {
   "cell_type": "code",
   "execution_count": 35,
   "id": "d7f29a61",
   "metadata": {},
   "outputs": [],
   "source": [
    "def testFirstOrderTrotterEvolve():\n",
    "    d = 2\n",
    "    D = 4\n",
    "    U1 = unitary_group.rvs(d**2)\n",
    "    U1ten = U1.reshape(d, d, d, d)\n",
    "    U2 = unitary_group.rvs(d**2)\n",
    "    U2ten = U2.reshape(d, d, d, d)\n",
    "    I = np.eye(2, dtype=complex)\n",
    "\n",
    "    A = createMPS(D, d)\n",
    "    A = normalizeMPS(A)\n",
    "\n",
    "    l, r = fixedPoints(A)\n",
    "\n",
    "    # Check 4 site case\n",
    "    N = 6 # Need extra sites on either side\n",
    "    rho6 = uniformToRhoN(A, N, l=l, r=r).reshape(d**N, d**N)\n",
    "\n",
    "    UUU = ncon([U1ten, U1ten, U1ten], [(-1, -2, -7, -8), (-3, -4, -9, -10), (-5, -6, -11, -12)]).reshape(d**N, d**N)\n",
    "    IUUI = ncon([I, U2ten, U2ten, I], [(-1, -7), (-2, -3, -8, -9), (-4, -5, -10, -11), (-6, -12)]).reshape(d**N, d**N)\n",
    "\n",
    "    evolvedRho6 = IUUI @ UUU @ rho6 @ UUU.conj().T @ IUUI.conj().T\n",
    "\n",
    "    evolvedRho6 = evolvedRho6.reshape([d]*(2*N))\n",
    "    evolvedRho6 = ncon([evolvedRho6,], ((1, -1, -2, -3, -4, 2, 1, -5, -6, -7, -8, 2),))\n",
    "\n",
    "    evolvedTen = firstOrderTrotterEvolve(A, U1, U2, 4, l=l, r=r)\n",
    "\n",
    "    print(np.allclose(evolvedRho6, evolvedTen))\n",
    "    print(np.linalg.norm(evolvedTen - evolvedRho6))"
   ]
  },
  {
   "cell_type": "code",
   "execution_count": 36,
   "id": "e2ecab2d",
   "metadata": {},
   "outputs": [
    {
     "name": "stdout",
     "output_type": "stream",
     "text": [
      "24\n",
      "[[2, 1], [37, 38], [1, 4, 7], [7, 10, 13], [13, 16, 19], [19, 22, 25], [25, 28, 31], [31, 34, 37], [2, 5, 8], [8, 11, 14], [14, 17, 20], [20, 23, 26], [26, 29, 32], [32, 35, 38], [3, 9, 4, 10], [15, 21, 16, 22], [27, 33, 28, 34], [-1, -2, 9, 15], [-3, -4, 21, 27], [3, 12, 5, 11], [18, 24, 17, 23], [30, 33, 29, 35], [-5, -6, 12, 18], [-7, -8, 24, 30]]\n",
      "True\n",
      "3.7190833695294273e-16\n"
     ]
    }
   ],
   "source": [
    "testFirstOrderTrotterEvolve()"
   ]
  },
  {
   "cell_type": "code",
   "execution_count": 40,
   "id": "fe0572a3",
   "metadata": {},
   "outputs": [
    {
     "name": "stdout",
     "output_type": "stream",
     "text": [
      "[0, 1, 2, 3, 4, 5]\n",
      "[3, 4, 5, 0, 1, 2]\n"
     ]
    }
   ],
   "source": [
    "trList = list(range(N))\n",
    "print(trList)\n",
    "trList = trList[N//2:] + trList[:N//2]\n",
    "print(trList)"
   ]
  },
  {
   "cell_type": "code",
   "execution_count": null,
   "id": "dec30138",
   "metadata": {},
   "outputs": [],
   "source": []
  }
 ],
 "metadata": {
  "kernelspec": {
   "display_name": "Python 3 (ipykernel)",
   "language": "python",
   "name": "python3"
  },
  "language_info": {
   "codemirror_mode": {
    "name": "ipython",
    "version": 3
   },
   "file_extension": ".py",
   "mimetype": "text/x-python",
   "name": "python",
   "nbconvert_exporter": "python",
   "pygments_lexer": "ipython3",
   "version": "3.8.10"
  }
 },
 "nbformat": 4,
 "nbformat_minor": 5
}
