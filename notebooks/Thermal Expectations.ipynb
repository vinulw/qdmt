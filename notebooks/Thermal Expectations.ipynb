{
 "cells": [
  {
   "cell_type": "code",
   "execution_count": 1,
   "id": "507938fd-ba29-4ff8-8d77-7e954fab94d8",
   "metadata": {},
   "outputs": [],
   "source": [
    "from tqdm import tqdm \n",
    "import numpy as np"
   ]
  },
  {
   "cell_type": "markdown",
   "id": "cf339d10-8ec3-4bf5-9b67-e5473cb834f3",
   "metadata": {},
   "source": [
    "# Thermal Expectations\n",
    "\n",
    "General idea of this notebook is to use Quantum Monte Carlo methods to sample thermal expecation values. \n",
    "\n",
    "Current plan \n",
    "- [ ] Implement general Metropolis-Hastings algorithm to calculate thermal expecations\n",
    "- [ ] Add sampling through TN states\n",
    "- [ ] Add straightforward QMC sampling of states\n",
    "- [ ] Create code for experiments to track burn in "
   ]
  },
  {
   "cell_type": "markdown",
   "id": "71dccd31-47da-47d4-be6e-71520daf5c4c",
   "metadata": {},
   "source": [
    "## General Metropolis-Hasting algo"
   ]
  },
  {
   "cell_type": "code",
   "execution_count": 2,
   "id": "58296d4e-111d-4e11-a996-fc842667c5a3",
   "metadata": {},
   "outputs": [],
   "source": [
    "def metropolisThermalExpectation(O, initialState,\n",
    "                                 proposalFunc,\n",
    "                                 observableExpectation,\n",
    "                                 boltzmannExpectation,\n",
    "                                 T,\n",
    "                                 warmup=100, steps=1000):\n",
    "    '''\n",
    "    Use the Metropolis Hastings algorithm to sample thermal expectation values. \n",
    "\n",
    "        Parameters\n",
    "        ----------\n",
    "        O : array\n",
    "            Operator to calculate expectation. \n",
    "        proposalFunc : function \n",
    "            Generator function for sampling from propsal distribution of new states \n",
    "        observableExpectation : \n",
    "            Calculate the observable expectation weighted by the Boltzmann factor\n",
    "        boltzmannExpectation : \n",
    "            Calculate the Boltzmann weight\n",
    "        T : int\n",
    "            Temperature to simulate\n",
    "        iterations : \n",
    "            Number of steps of the chain to take \n",
    "\n",
    "        Returns \n",
    "        -------\n",
    "        array : A list of outputs from the `observableExpectation`function\n",
    "    '''\n",
    "    k = 1 # Boltzmann constant \n",
    "    Os = np.zeros(steps) # Storage for observables\n",
    "    currentState = deepcopy(initialState)\n",
    "\n",
    "    # Warmup the MC\n",
    "    print('Warming up MC...')\n",
    "    for n in tqdm(range(warmup)): \n",
    "        currentState = metropolisStep1DIsing(currentState, proposalFunc) \n",
    "\n",
    "    # Run the MC + calculate observables at each step \n",
    "    print('Running MC...')\n",
    "    for n in tqdm(range(steps)): \n",
    "        currentState = metropolisStep1DIsing(currentState, proposalFunc)\n",
    "        Os[n] = observableExpectation(currentState, O)\n",
    "\n",
    "    return Os"
   ]
  },
  {
   "cell_type": "code",
   "execution_count": 3,
   "id": "7c452d95-970e-4655-ba14-8ac26dd658e9",
   "metadata": {},
   "outputs": [],
   "source": [
    "def metropolisStep1DIsing(oldState, sampleProposal): \n",
    "    # sample new state \n",
    "    newState = sampleProposal(oldState)\n",
    "\n",
    "    # calculate Boltzmann weights ratio\n",
    "    weightRatio = calculateBoltzmannWeightRatio(oldState, newState) \n",
    "\n",
    "    # calcualte acceptance \n",
    "    acceptanceRatio = min(1, weightRatio)\n",
    "    if random.rand() < acceptanceRatio: \n",
    "        return newState\n",
    "    return oldState"
   ]
  },
  {
   "cell_type": "markdown",
   "id": "ad6a93ef-416c-450b-9668-d579a9844ef6",
   "metadata": {},
   "source": [
    "## Functions for working with MPS states"
   ]
  },
  {
   "cell_type": "code",
   "execution_count": 4,
   "id": "b095c748-94a5-4420-b22e-f120e96c99de",
   "metadata": {},
   "outputs": [],
   "source": [
    "from scipy.stats import unitary_group"
   ]
  },
  {
   "cell_type": "code",
   "execution_count": 16,
   "id": "8404c20e-4f88-46ee-b839-ebc768222305",
   "metadata": {},
   "outputs": [],
   "source": [
    "def randomUnitaryState(oldState):\n",
    "    '''\n",
    "    Generate a random left canonical state as a proposal state. \n",
    "    '''\n",
    "    l, rho, r = oldState.shape\n",
    "    D = max(l*rho, r)\n",
    "    newState = unitary_group.rvs(D)\n",
    "    newState = newState[:l*rho, :r]\n",
    "    return newState.reshape(l, rho, r)"
   ]
  },
  {
   "cell_type": "code",
   "execution_count": null,
   "id": "77392910-c170-492a-a568-81139100d570",
   "metadata": {},
   "outputs": [],
   "source": [
    "def mpsBoltzmannRatio(stateA, stateB, expBH):\n",
    "    '''\n",
    "    Calculate the Boltzmann ratio to check if we accept the new state. \n",
    "    '''\n",
    "    expA = expectation(stateA, expBH)\n",
    "    expB = expectation(stateB, expBH)\n",
    "    return expA/expB"
   ]
  },
  {
   "cell_type": "code",
   "execution_count": null,
   "id": "58360beb-b9b8-4861-90cf-aaa3d5f4f1fb",
   "metadata": {},
   "outputs": [],
   "source": [
    "def expectation(state, O):\n",
    "    '''\n",
    "    Calculate translationally invariant expectation of operator O given `state`. \n",
    "    '''\n",
    "    Dl, rho, Dr = state.shape \n",
    "    Odim = O.shape[0]\n",
    "    nStates = Odim // rho\n",
    "    Oten = O.reshape(2 * nStates * [rho])\n",
    "\n",
    "    tensors = [ state"
   ]
  },
  {
   "cell_type": "markdown",
   "id": "b148b3bb-e66f-4dd2-b641-1981c43737de",
   "metadata": {},
   "source": [
    "## References \n",
    "- Code: \n",
    "https://github.com/prtkm/ising-monte-carlo/blob/master/ising-monte-carlo.org\n",
    "https://rajeshrinet.github.io/blog/2014/ising-model/\n",
    "\n",
    "- Analytics:\n",
    "https://stanford.edu/~jeffjar/statmech/lec3.html\n",
    "\n",
    "- Manuscript\n",
    "https://www.cond-mat.de/events/correl13/manuscripts/wessel.pdf = Uses Heisenberg model as reference but it might be a good test to reproduce some of the 1D behaviour we expect. "
   ]
  },
  {
   "cell_type": "code",
   "execution_count": null,
   "id": "516c4840-4993-4746-9c72-9be2a90a37d0",
   "metadata": {},
   "outputs": [],
   "source": []
  }
 ],
 "metadata": {
  "kernelspec": {
   "display_name": "Python 3 (ipykernel)",
   "language": "python",
   "name": "python3"
  },
  "language_info": {
   "codemirror_mode": {
    "name": "ipython",
    "version": 3
   },
   "file_extension": ".py",
   "mimetype": "text/x-python",
   "name": "python",
   "nbconvert_exporter": "python",
   "pygments_lexer": "ipython3",
   "version": "3.10.11"
  }
 },
 "nbformat": 4,
 "nbformat_minor": 5
}
