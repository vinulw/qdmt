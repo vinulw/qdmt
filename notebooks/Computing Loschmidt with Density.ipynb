{
 "cells": [
  {
   "cell_type": "code",
   "execution_count": 1,
   "id": "b040473f",
   "metadata": {},
   "outputs": [],
   "source": [
    "%load_ext autoreload \n",
    "%autoreload 2"
   ]
  },
  {
   "cell_type": "code",
   "execution_count": 2,
   "id": "fea166d3",
   "metadata": {},
   "outputs": [],
   "source": [
    "import sys\n",
    "sys.path.insert(0, '../qdmt/')"
   ]
  },
  {
   "cell_type": "code",
   "execution_count": 3,
   "id": "227248f1",
   "metadata": {},
   "outputs": [],
   "source": [
    "from uMPSHelpers import *\n",
    "from hamiltonian import TransverseIsing\n",
    "from vumps import vumps "
   ]
  },
  {
   "cell_type": "code",
   "execution_count": 4,
   "id": "cfe12fe7",
   "metadata": {},
   "outputs": [],
   "source": [
    "import numpy as np\n",
    "import matplotlib.pyplot as plt\n",
    "from scipy.linalg import expm, eig\n",
    "from tqdm import tqdm\n",
    "import cirq"
   ]
  },
  {
   "cell_type": "markdown",
   "id": "efa6fdfd",
   "metadata": {},
   "source": [
    "### Loading the params"
   ]
  },
  {
   "cell_type": "code",
   "execution_count": 5,
   "id": "2aebbc1c",
   "metadata": {},
   "outputs": [],
   "source": [
    "dataFile = 'data/081123102003_opt_log.csv'\n",
    "data = np.loadtxt(dataFile, delimiter=',', skiprows=1)\n",
    "with open(dataFile, 'r') as dataF:\n",
    "    header = dataF.readline()"
   ]
  },
  {
   "cell_type": "code",
   "execution_count": 6,
   "id": "9a3517cd",
   "metadata": {},
   "outputs": [
    {
     "name": "stdout",
     "output_type": "stream",
     "text": [
      "18\n",
      "['θ0', 'θ1', 'θ2', 'θ3', 'θ4', 'θ5', 'θ6', 'θ7', 'θ8', 'θ9', 'θ10', 'θ11', 'θ12', 'θ13', 'θ14', 'fun', 'nfev', 'nit\\n']\n"
     ]
    }
   ],
   "source": [
    "header = header.split(',')\n",
    "print(len(header))\n",
    "print(header)"
   ]
  },
  {
   "cell_type": "code",
   "execution_count": 7,
   "id": "1a6d3449",
   "metadata": {},
   "outputs": [],
   "source": [
    "params = data[:, :-3]"
   ]
  },
  {
   "cell_type": "markdown",
   "id": "3057ed8c",
   "metadata": {},
   "source": [
    "### Converting params into state tensors"
   ]
  },
  {
   "cell_type": "code",
   "execution_count": 8,
   "id": "52ae9e32",
   "metadata": {},
   "outputs": [],
   "source": [
    "class ShallowFullStateAnsatz(cirq.Gate):\n",
    "    def __init__(self, Psi):\n",
    "        assert len(Psi) == 15\n",
    "        self.Psi = Psi\n",
    "\n",
    "    def _decompose_(self, qubits):\n",
    "        return [\n",
    "            cirq.rz(self.Psi[0]).on(qubits[0]),\n",
    "            cirq.rx(self.Psi[1]).on(qubits[0]),\n",
    "            cirq.rz(self.Psi[2]).on(qubits[0]),\n",
    "\n",
    "            cirq.rz(self.Psi[3]).on(qubits[1]),\n",
    "            cirq.rx(self.Psi[4]).on(qubits[1]),\n",
    "            cirq.rz(self.Psi[5]).on(qubits[1]),\n",
    "\n",
    "            cirq.CNOT(qubits[0], qubits[1]),\n",
    "\n",
    "            cirq.ry(self.Psi[6]).on(qubits[0]),\n",
    "\n",
    "            cirq.CNOT(qubits[1], qubits[0]),\n",
    "\n",
    "            cirq.ry(self.Psi[7]).on(qubits[0]),\n",
    "            cirq.rz(self.Psi[8]).on(qubits[1]),\n",
    "\n",
    "            cirq.CNOT(qubits[0], qubits[1]),\n",
    "\n",
    "            cirq.rz(self.Psi[9]).on(qubits[0]),\n",
    "            cirq.rx(self.Psi[10]).on(qubits[0]),\n",
    "            cirq.rz(self.Psi[11]).on(qubits[0]),\n",
    "\n",
    "            cirq.rz(self.Psi[12]).on(qubits[1]),\n",
    "            cirq.rx(self.Psi[13]).on(qubits[1]),\n",
    "            cirq.rz(self.Psi[14]).on(qubits[1]),\n",
    "        ]\n",
    "\n",
    "    def num_qubits(self):\n",
    "        return 2\n",
    "\n",
    "    def _circuit_diagram_info_(self, args):\n",
    "        return ['U','U']\n"
   ]
  },
  {
   "cell_type": "code",
   "execution_count": 9,
   "id": "91668599",
   "metadata": {},
   "outputs": [],
   "source": [
    "def unitary_to_tensor(U):\n",
    "    '''\n",
    "    Take a unitary U and make it a tensor A such that\n",
    "   |0>     k\n",
    "    |     |\n",
    "    |     |     |\n",
    "    ---U---     | direction of unitary\n",
    "    |     |     |\n",
    "    |     |     v\n",
    "    i     j\n",
    "\n",
    "    A.shape = (i, j, k)\n",
    "\n",
    "    i == A == k\n",
    "         |\n",
    "         j\n",
    "    '''\n",
    "    n = int(np.log2(U.shape[0]))\n",
    "    zero = np.array([1., 0.])\n",
    "\n",
    "    Ucontr = list(range(-1, -n-1, -1)) + [1] + list(range(-n-1, -2*n, -1))\n",
    "    A = ncon([U.reshape(*2 * n *[2]), zero], [Ucontr, [1,]])\n",
    "    A = A.reshape(2**(n-1), 2, 2**(n-1))\n",
    "    return A\n",
    "\n",
    "\n",
    "def paramsToTensor(params):\n",
    "    Q = cirq.LineQubit.range(2)\n",
    "\n",
    "    U = cirq.unitary(\n",
    "        ShallowFullStateAnsatz(params).on(*Q)  # 2 qubit circuit\n",
    "    )\n",
    "    \n",
    "    return unitary_to_tensor(U)"
   ]
  },
  {
   "cell_type": "code",
   "execution_count": 10,
   "id": "3f1464ad",
   "metadata": {},
   "outputs": [],
   "source": [
    "Ats = [paramsToTensor(p) for p in params]\n",
    "Ats = [normalizeMPS(A) for A in Ats]"
   ]
  },
  {
   "cell_type": "markdown",
   "id": "604705ae",
   "metadata": {},
   "source": [
    "### Calculating the Loschmidt curve using state TM"
   ]
  },
  {
   "cell_type": "code",
   "execution_count": 11,
   "id": "0de9bc79",
   "metadata": {},
   "outputs": [],
   "source": [
    "def right_fixed_point(E):\n",
    "    '''\n",
    "    Calculate the right fixed point of a transfer matrix E\n",
    "\n",
    "    E.shape = (N, N)\n",
    "    '''\n",
    "    evals, evecs = eig(E)\n",
    "    sort = sorted(zip(evals, evecs), key=lambda x: np.linalg.norm(x[0]),\n",
    "                   reverse=True)\n",
    "    # Look into `scipy.sparse.linalg.eigs, may be faster`\n",
    "    mu, r = sort[0]\n",
    "    return mu, r\n",
    "\n",
    "\n",
    "def exact_overlap(A, B):\n",
    "    '''\n",
    "    Calculate the overlap classically i.e. abs of max eigenvalue of transfer\n",
    "    matrix\n",
    "    '''\n",
    "    D, d, _ = A.shape\n",
    "    E = ncon([A, B.conj()], ((-1, 1, -3), (-2, 1, -4))).reshape(D**2, D**2)\n",
    "\n",
    "    mu, _ = right_fixed_point(E)\n",
    "\n",
    "    return np.abs(mu)\n"
   ]
  },
  {
   "cell_type": "code",
   "execution_count": 12,
   "id": "862ff7b3",
   "metadata": {},
   "outputs": [],
   "source": [
    "ls = []\n",
    "A0 = Ats[0]\n",
    "\n",
    "for A in Ats: \n",
    "    ov = exact_overlap(A0, A)\n",
    "    ls.append(-1*np.log(ov))"
   ]
  },
  {
   "cell_type": "code",
   "execution_count": 13,
   "id": "31ff0ba9",
   "metadata": {},
   "outputs": [
    {
     "data": {
      "text/plain": [
       "[<matplotlib.lines.Line2D at 0x7fe73ce73250>]"
      ]
     },
     "execution_count": 13,
     "metadata": {},
     "output_type": "execute_result"
    },
    {
     "data": {
      "image/png": "[encoded data removed]",
      "text/plain": [
       "<Figure size 432x288 with 1 Axes>"
      ]
     },
     "metadata": {
      "needs_background": "light"
     },
     "output_type": "display_data"
    }
   ],
   "source": [
    "plt.plot(ls)"
   ]
  },
  {
   "cell_type": "markdown",
   "id": "babff96d",
   "metadata": {},
   "source": [
    "### Calculating Loschmidt using density matrices"
   ]
  },
  {
   "cell_type": "code",
   "execution_count": 14,
   "id": "53077c7f",
   "metadata": {},
   "outputs": [],
   "source": [
    "from optimise import uniformToRhoN"
   ]
  },
  {
   "cell_type": "code",
   "execution_count": 15,
   "id": "75015253",
   "metadata": {},
   "outputs": [],
   "source": [
    "from optimise import contractionTrAA"
   ]
  },
  {
   "cell_type": "code",
   "execution_count": 16,
   "id": "a2469743",
   "metadata": {},
   "outputs": [],
   "source": [
    "fixPs = [fixedPoints(A) for A in Ats]"
   ]
  },
  {
   "cell_type": "code",
   "execution_count": 17,
   "id": "49d022f4",
   "metadata": {},
   "outputs": [],
   "source": [
    "def TrAB(A, B, N, fixedA=None, fixedB=None):\n",
    "    if fixedA is None: \n",
    "        fixedA = fixedPoints(A)\n",
    "    if fixedB is None: \n",
    "        fixedB = fixedPoints(B)\n",
    "    lA, rA = fixedA\n",
    "    lB, rB = fixedB\n",
    "        \n",
    "    BContr, BDagContr, AContr, ADagContr = contractionTrAA(N)\n",
    "    \n",
    "    lBContr = [[BDagContr[0][0], BContr[0][0]]]\n",
    "    rBContr = [[BContr[-1][2], BDagContr[-1][2]]]\n",
    "    \n",
    "    lAContr = [[ADagContr[0][0], AContr[0][0]]]\n",
    "    rAContr = [[AContr[-1][2], ADagContr[-1][2]]]\n",
    "    \n",
    "    contr = lBContr + BContr + BDagContr + rBContr +\\\n",
    "            lAContr + AContr + ADagContr + rAContr\n",
    "    tensors = [lB] + [B]*N + [B.conj()]*N + [rB] +\\\n",
    "            [lA] + [A]*N + [A.conj()]*N + [rA]\n",
    "    \n",
    "    return ncon(tensors, contr)"
   ]
  },
  {
   "cell_type": "code",
   "execution_count": 18,
   "id": "048c0d9d",
   "metadata": {},
   "outputs": [],
   "source": [
    "overlapNDict = {}\n",
    "Ns = [2, 4, 8, 12, 16]\n",
    "A0 = Ats[0]\n",
    "f0 = fixPs[0]\n",
    "for N in Ns: \n",
    "    overlapNDict[N] = []\n",
    "    for fA, A in zip(fixPs, Ats): \n",
    "        overlapNDict[N].append(TrAB(A0, A, N, f0, fA))\n"
   ]
  },
  {
   "cell_type": "code",
   "execution_count": 20,
   "id": "9fb4988a",
   "metadata": {},
   "outputs": [
    {
     "data": {
      "image/png": "[encoded data removed]",
      "text/plain": [
       "<Figure size 432x288 with 2 Axes>"
      ]
     },
     "metadata": {
      "needs_background": "light"
     },
     "output_type": "display_data"
    }
   ],
   "source": [
    "fig, ax = plt.subplots(layout='constrained')\n",
    "lines = []\n",
    "for N in Ns:\n",
    "    ovs = np.abs(overlapNDict[N])\n",
    "    losch = -1*np.log(ovs)\n",
    "    line = ax.plot(losch, label=f'N : {N}', ls='--', marker='x')\n",
    "    lines = lines + line\n",
    "    \n",
    "ax2 = ax.twinx()\n",
    "line = ax2.plot(ls, label='State TM', ls='--', marker='o')\n",
    "lines = lines + line\n",
    "\n",
    "labels = [l.get_label() for l in lines]\n",
    "ax.legend(lines, labels, loc=0)\n",
    "\n",
    "plt.show()"
   ]
  },
  {
   "cell_type": "code",
   "execution_count": null,
   "id": "494bb010",
   "metadata": {},
   "outputs": [],
   "source": []
  }
 ],
 "metadata": {
  "kernelspec": {
   "display_name": "Python 3 (ipykernel)",
   "language": "python",
   "name": "python3"
  },
  "language_info": {
   "codemirror_mode": {
    "name": "ipython",
    "version": 3
   },
   "file_extension": ".py",
   "mimetype": "text/x-python",
   "name": "python",
   "nbconvert_exporter": "python",
   "pygments_lexer": "ipython3",
   "version": "3.8.10"
  }
 },
 "nbformat": 4,
 "nbformat_minor": 5
}
