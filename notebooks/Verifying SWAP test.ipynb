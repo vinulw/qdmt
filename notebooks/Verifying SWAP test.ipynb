{
 "cells": [
  {
   "cell_type": "code",
   "execution_count": 1,
   "id": "49733290",
   "metadata": {},
   "outputs": [],
   "source": [
    "import numpy as np\n",
    "from ncon import ncon"
   ]
  },
  {
   "cell_type": "markdown",
   "id": "8e9bdadf",
   "metadata": {},
   "source": [
    "# Verifying SWAP test"
   ]
  },
  {
   "cell_type": "code",
   "execution_count": 2,
   "id": "63d082e7",
   "metadata": {},
   "outputs": [],
   "source": [
    "def generate_random_state():\n",
    "    state = np.random.rand(2) + 1j*np.random.rand(2)\n",
    "    norm = np.dot(state.conj(), state)\n",
    "    return state/np.sqrt(norm)"
   ]
  },
  {
   "cell_type": "code",
   "execution_count": 3,
   "id": "538d476c",
   "metadata": {},
   "outputs": [],
   "source": [
    "phi = generate_random_state()\n",
    "psi = generate_random_state()"
   ]
  },
  {
   "cell_type": "markdown",
   "id": "52c9b78c",
   "metadata": {},
   "source": [
    "Checking the overlaps of states"
   ]
  },
  {
   "cell_type": "code",
   "execution_count": 4,
   "id": "40689942",
   "metadata": {},
   "outputs": [
    {
     "name": "stdout",
     "output_type": "stream",
     "text": [
      "(1.0000000000000002+0j)\n",
      "(1+0j)\n"
     ]
    }
   ],
   "source": [
    "print(np.dot(phi.conj(), phi))\n",
    "print(np.dot(psi.conj(), psi))"
   ]
  },
  {
   "cell_type": "markdown",
   "id": "3044d333",
   "metadata": {},
   "source": [
    "Defining gates"
   ]
  },
  {
   "cell_type": "code",
   "execution_count": 5,
   "id": "e984afe4",
   "metadata": {},
   "outputs": [],
   "source": [
    "CNOT = np.array([[1, 0, 0, 0], \n",
    "                 [0, 1, 0, 0], \n",
    "                 [0, 0, 0, 1], \n",
    "                 [0, 0, 1, 0]], dtype=complex)\n",
    "\n",
    "H = (1/np.sqrt(2)) * np.array([[1, 1],\n",
    "                           [1, -1]], dtype=complex)\n",
    "HI = np.kron(H, np.eye(2))"
   ]
  },
  {
   "cell_type": "markdown",
   "id": "4b15fd24",
   "metadata": {},
   "source": [
    "Defining porjectors"
   ]
  },
  {
   "cell_type": "code",
   "execution_count": 6,
   "id": "95ae1881",
   "metadata": {},
   "outputs": [],
   "source": [
    "zero = np.array([1, 0], dtype=complex)\n",
    "one = np.array([0, 1], dtype=complex)\n",
    "zerozero = np.kron(zero, zero)\n",
    "oneone = np.kron(one, one)"
   ]
  },
  {
   "cell_type": "code",
   "execution_count": 7,
   "id": "dcef04bf",
   "metadata": {},
   "outputs": [
    {
     "name": "stdout",
     "output_type": "stream",
     "text": [
      "[1.+0.j 0.+0.j 0.+0.j 0.+0.j]\n"
     ]
    }
   ],
   "source": [
    "print(zerozero)"
   ]
  },
  {
   "cell_type": "code",
   "execution_count": 8,
   "id": "3c888a9b",
   "metadata": {},
   "outputs": [],
   "source": [
    "Proj00 = np.outer(zerozero, zerozero)\n",
    "Proj11 = np.outer(oneone, oneone)"
   ]
  },
  {
   "cell_type": "code",
   "execution_count": 9,
   "id": "86449175",
   "metadata": {},
   "outputs": [
    {
     "data": {
      "text/plain": [
       "array([[1.+0.j, 0.+0.j, 0.+0.j, 0.+0.j],\n",
       "       [0.+0.j, 0.+0.j, 0.+0.j, 0.+0.j],\n",
       "       [0.+0.j, 0.+0.j, 0.+0.j, 0.+0.j],\n",
       "       [0.+0.j, 0.+0.j, 0.+0.j, 0.+0.j]])"
      ]
     },
     "execution_count": 9,
     "metadata": {},
     "output_type": "execute_result"
    }
   ],
   "source": [
    "Proj00"
   ]
  },
  {
   "cell_type": "markdown",
   "id": "3c1eaff9",
   "metadata": {},
   "source": [
    "Applying circuit"
   ]
  },
  {
   "cell_type": "code",
   "execution_count": 10,
   "id": "28b6e8fd",
   "metadata": {},
   "outputs": [],
   "source": [
    "state0 = np.kron(phi, psi)"
   ]
  },
  {
   "cell_type": "code",
   "execution_count": 11,
   "id": "7673012e",
   "metadata": {},
   "outputs": [],
   "source": [
    "stateout = HI @ CNOT @ state0"
   ]
  },
  {
   "cell_type": "markdown",
   "id": "f9953a19",
   "metadata": {},
   "source": [
    "Calculating $P(00)$"
   ]
  },
  {
   "cell_type": "code",
   "execution_count": 12,
   "id": "13f96163",
   "metadata": {},
   "outputs": [],
   "source": [
    "P00 = stateout.T.conj() @ Proj00 @ stateout"
   ]
  },
  {
   "cell_type": "code",
   "execution_count": 13,
   "id": "7a0f3f87",
   "metadata": {},
   "outputs": [
    {
     "data": {
      "text/plain": [
       "(0.43011037595947343+0j)"
      ]
     },
     "execution_count": 13,
     "metadata": {},
     "output_type": "execute_result"
    }
   ],
   "source": [
    "P00"
   ]
  },
  {
   "cell_type": "markdown",
   "id": "e56c2bf4",
   "metadata": {},
   "source": [
    "Calculating $P(11)$"
   ]
  },
  {
   "cell_type": "code",
   "execution_count": 14,
   "id": "e3ccba33",
   "metadata": {},
   "outputs": [],
   "source": [
    "P11 = stateout.T.conj() @ Proj11 @ stateout"
   ]
  },
  {
   "cell_type": "code",
   "execution_count": 15,
   "id": "e2c459f9",
   "metadata": {},
   "outputs": [
    {
     "data": {
      "text/plain": [
       "(0.02969379795084487+0j)"
      ]
     },
     "execution_count": 15,
     "metadata": {},
     "output_type": "execute_result"
    }
   ],
   "source": [
    "P11"
   ]
  },
  {
   "cell_type": "markdown",
   "id": "caeb58ef",
   "metadata": {},
   "source": [
    "Calculating overlaps"
   ]
  },
  {
   "cell_type": "code",
   "execution_count": 16,
   "id": "c9816c76",
   "metadata": {},
   "outputs": [
    {
     "name": "stdout",
     "output_type": "stream",
     "text": [
      "(0.9406124040983105+0j)\n"
     ]
    }
   ],
   "source": [
    "exact_overlap = np.dot(phi.conj(), psi)*np.dot(psi.conj(), phi)\n",
    "print(exact_overlap)"
   ]
  },
  {
   "cell_type": "code",
   "execution_count": 17,
   "id": "b92e9e74",
   "metadata": {},
   "outputs": [
    {
     "name": "stdout",
     "output_type": "stream",
     "text": [
      "(0.9406124040983103+0j)\n"
     ]
    }
   ],
   "source": [
    "paper_overlap = 1-2*P11 # Overlap based on P(11) measurement\n",
    "print(paper_overlap)"
   ]
  },
  {
   "cell_type": "code",
   "execution_count": 18,
   "id": "404e096f",
   "metadata": {},
   "outputs": [
    {
     "name": "stdout",
     "output_type": "stream",
     "text": [
      "(0.8602207519189469+0j)\n"
     ]
    }
   ],
   "source": [
    "p00_overlap = 2*P00 # Doubling P(00) to calculate overlap\n",
    "print(p00_overlap)"
   ]
  },
  {
   "cell_type": "markdown",
   "id": "7dd31468",
   "metadata": {},
   "source": [
    "Difference from exact overlap"
   ]
  },
  {
   "cell_type": "code",
   "execution_count": 19,
   "id": "d7f75c47",
   "metadata": {},
   "outputs": [
    {
     "data": {
      "text/plain": [
       "(2.220446049250313e-16+0j)"
      ]
     },
     "execution_count": 19,
     "metadata": {},
     "output_type": "execute_result"
    }
   ],
   "source": [
    "exact_overlap - paper_overlap"
   ]
  },
  {
   "cell_type": "code",
   "execution_count": 20,
   "id": "37d824f0",
   "metadata": {},
   "outputs": [
    {
     "data": {
      "text/plain": [
       "(0.08039165217936362+0j)"
      ]
     },
     "execution_count": 20,
     "metadata": {},
     "output_type": "execute_result"
    }
   ],
   "source": [
    "exact_overlap - p00_overlap"
   ]
  },
  {
   "cell_type": "markdown",
   "id": "cac18101",
   "metadata": {},
   "source": [
    "## Projecting onto Bell state"
   ]
  },
  {
   "cell_type": "code",
   "execution_count": 81,
   "id": "bbab51be",
   "metadata": {},
   "outputs": [],
   "source": [
    "bell_plus = 1/np.sqrt(2)*(zerozero + oneone)"
   ]
  },
  {
   "cell_type": "code",
   "execution_count": 82,
   "id": "c0eb52ef",
   "metadata": {},
   "outputs": [],
   "source": [
    "Proj_plus = np.outer(bell_plus, bell_plus)"
   ]
  },
  {
   "cell_type": "code",
   "execution_count": null,
   "id": "4715c670",
   "metadata": {},
   "outputs": [],
   "source": []
  },
  {
   "cell_type": "code",
   "execution_count": 83,
   "id": "85f31fe9",
   "metadata": {},
   "outputs": [],
   "source": [
    "Pplus = state0.conj().T @ Proj_plus @ state0"
   ]
  },
  {
   "cell_type": "code",
   "execution_count": 84,
   "id": "2135d98e",
   "metadata": {},
   "outputs": [
    {
     "data": {
      "text/plain": [
       "(0.4301103759594733+0j)"
      ]
     },
     "execution_count": 84,
     "metadata": {},
     "output_type": "execute_result"
    }
   ],
   "source": [
    "Pplus"
   ]
  },
  {
   "cell_type": "code",
   "execution_count": 85,
   "id": "88ae3a4b",
   "metadata": {},
   "outputs": [
    {
     "data": {
      "text/plain": [
       "(-2.220446049250313e-16+0j)"
      ]
     },
     "execution_count": 85,
     "metadata": {},
     "output_type": "execute_result"
    }
   ],
   "source": [
    "2*Pplus - p00_overlap"
   ]
  },
  {
   "cell_type": "markdown",
   "id": "b05901d0",
   "metadata": {},
   "source": [
    "Explicitly bending the leg classically"
   ]
  },
  {
   "cell_type": "code",
   "execution_count": 86,
   "id": "651f0edc",
   "metadata": {},
   "outputs": [],
   "source": [
    "prod_bell = np.dot(state0, bell_plus)"
   ]
  },
  {
   "cell_type": "code",
   "execution_count": 87,
   "id": "4cdadfa3",
   "metadata": {},
   "outputs": [
    {
     "data": {
      "text/plain": [
       "(0.43011037595947343+0j)"
      ]
     },
     "execution_count": 87,
     "metadata": {},
     "output_type": "execute_result"
    }
   ],
   "source": [
    "prod_bell*prod_bell.conj()"
   ]
  },
  {
   "cell_type": "code",
   "execution_count": 88,
   "id": "f04de6ef",
   "metadata": {},
   "outputs": [],
   "source": [
    "bending_leg = ncon([phi.conj().T, psi], ((1,), (1,)))"
   ]
  },
  {
   "cell_type": "code",
   "execution_count": 89,
   "id": "68201c9d",
   "metadata": {},
   "outputs": [
    {
     "data": {
      "text/plain": [
       "array(0.96974771+0.01420526j)"
      ]
     },
     "execution_count": 89,
     "metadata": {},
     "output_type": "execute_result"
    }
   ],
   "source": [
    "bending_leg"
   ]
  },
  {
   "cell_type": "code",
   "execution_count": 96,
   "id": "e69305b4",
   "metadata": {},
   "outputs": [],
   "source": [
    "bending2 = ncon([phi, psi], ((1,), (1,)))"
   ]
  },
  {
   "cell_type": "code",
   "execution_count": 97,
   "id": "d5646326",
   "metadata": {
    "scrolled": true
   },
   "outputs": [
    {
     "data": {
      "text/plain": [
       "array(-0.78895671+0.48761467j)"
      ]
     },
     "execution_count": 97,
     "metadata": {},
     "output_type": "execute_result"
    }
   ],
   "source": [
    "bending2"
   ]
  },
  {
   "cell_type": "code",
   "execution_count": 99,
   "id": "9c4f7d71",
   "metadata": {},
   "outputs": [
    {
     "name": "stdout",
     "output_type": "stream",
     "text": [
      "(-0.788956708704042+0.4876146672423138j)\n"
     ]
    }
   ],
   "source": [
    "print(np.dot(phi, psi))"
   ]
  },
  {
   "cell_type": "code",
   "execution_count": 98,
   "id": "6e57c7b0",
   "metadata": {},
   "outputs": [
    {
     "data": {
      "text/plain": [
       "(0.860220751918947+0j)"
      ]
     },
     "execution_count": 98,
     "metadata": {},
     "output_type": "execute_result"
    }
   ],
   "source": [
    "bending2.conj()*bending2"
   ]
  },
  {
   "cell_type": "code",
   "execution_count": 90,
   "id": "4b09d9fe",
   "metadata": {},
   "outputs": [
    {
     "data": {
      "text/plain": [
       "(0.1095269547595773+0.014205262759061366j)"
      ]
     },
     "execution_count": 90,
     "metadata": {},
     "output_type": "execute_result"
    }
   ],
   "source": [
    "bending_leg - 2*Pplus"
   ]
  },
  {
   "cell_type": "code",
   "execution_count": 91,
   "id": "f1e47e95",
   "metadata": {},
   "outputs": [
    {
     "data": {
      "text/plain": [
       "(0.9406124040983105+0j)"
      ]
     },
     "execution_count": 91,
     "metadata": {},
     "output_type": "execute_result"
    }
   ],
   "source": [
    "bending_leg*bending_leg.conj()"
   ]
  },
  {
   "cell_type": "code",
   "execution_count": 92,
   "id": "a55bcf59",
   "metadata": {},
   "outputs": [
    {
     "data": {
      "text/plain": [
       "(0.9406124040983105+0j)"
      ]
     },
     "execution_count": 92,
     "metadata": {},
     "output_type": "execute_result"
    }
   ],
   "source": [
    "exact_overlap"
   ]
  },
  {
   "cell_type": "code",
   "execution_count": 93,
   "id": "bddd9907",
   "metadata": {},
   "outputs": [
    {
     "data": {
      "text/plain": [
       "(0.9406124040983103+0j)"
      ]
     },
     "execution_count": 93,
     "metadata": {},
     "output_type": "execute_result"
    }
   ],
   "source": [
    "paper_overlap"
   ]
  },
  {
   "cell_type": "code",
   "execution_count": 94,
   "id": "87848ca2",
   "metadata": {},
   "outputs": [
    {
     "data": {
      "text/plain": [
       "(0.8602207519189469+0j)"
      ]
     },
     "execution_count": 94,
     "metadata": {},
     "output_type": "execute_result"
    }
   ],
   "source": [
    "p00_overlap"
   ]
  },
  {
   "cell_type": "code",
   "execution_count": 95,
   "id": "56598d31",
   "metadata": {},
   "outputs": [
    {
     "data": {
      "text/plain": [
       "(1.7204415038378933+0j)"
      ]
     },
     "execution_count": 95,
     "metadata": {},
     "output_type": "execute_result"
    }
   ],
   "source": [
    "4*Pplus"
   ]
  },
  {
   "cell_type": "code",
   "execution_count": null,
   "id": "1c101ee3",
   "metadata": {},
   "outputs": [],
   "source": []
  },
  {
   "cell_type": "code",
   "execution_count": null,
   "id": "aa8e467c",
   "metadata": {},
   "outputs": [],
   "source": []
  }
 ],
 "metadata": {
  "kernelspec": {
   "display_name": "Python 3 (ipykernel)",
   "language": "python",
   "name": "python3"
  },
  "language_info": {
   "codemirror_mode": {
    "name": "ipython",
    "version": 3
   },
   "file_extension": ".py",
   "mimetype": "text/x-python",
   "name": "python",
   "nbconvert_exporter": "python",
   "pygments_lexer": "ipython3",
   "version": "3.8.10"
  }
 },
 "nbformat": 4,
 "nbformat_minor": 5
}
