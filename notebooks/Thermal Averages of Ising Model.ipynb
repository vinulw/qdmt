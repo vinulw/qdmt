{
 "cells": [
  {
   "cell_type": "code",
   "execution_count": 1,
   "id": "f750f4f0-df5c-471a-8b3a-e633fb91a9e2",
   "metadata": {},
   "outputs": [],
   "source": [
    "import numpy as np \n",
    "import matplotlib.pyplot as plt\n",
    "from functools import reduce\n",
    "\n",
    "from numpy import kron, eye\n",
    "from numpy.linalg import eigh"
   ]
  },
  {
   "cell_type": "code",
   "execution_count": 2,
   "id": "612f00a8-dc08-4625-84ab-0a588134b242",
   "metadata": {},
   "outputs": [],
   "source": [
    "# define Paulis \n",
    "X = np.array([[0, 1], [1, 0]], dtype=complex)\n",
    "Y = 1j*np.array([[0, -1], [1, 0]], dtype=complex)\n",
    "Z = np.array([[1, 0], [0, -1]], dtype=complex)\n",
    "\n",
    "S = {'I': eye(2, dtype=complex), 'X': X, 'Y': Y, 'Z': Z}"
   ]
  },
  {
   "cell_type": "markdown",
   "id": "c58cba2d-7285-44b6-8ee9-86d1e5ec3f96",
   "metadata": {},
   "source": [
    "## Calculate expectations using ED"
   ]
  },
  {
   "cell_type": "code",
   "execution_count": 3,
   "id": "79d64318-bbe5-49b1-b4ae-9885fffbeb0d",
   "metadata": {},
   "outputs": [],
   "source": [
    "L = 5\n",
    "BC = 'open' "
   ]
  },
  {
   "cell_type": "code",
   "execution_count": 4,
   "id": "43716d1e-450d-4230-8a0f-2d87caee8d42",
   "metadata": {},
   "outputs": [],
   "source": [
    "def generateHamiltonian(J, g, L, BC):\n",
    "    if BC == 'open':\n",
    "        return generateHamiltonianOpen(J, g, L)\n",
    "    else: \n",
    "        return generateHamiltonianPeriodic(J, g, L)"
   ]
  },
  {
   "cell_type": "code",
   "execution_count": 5,
   "id": "1a1da785-e39a-4b5f-a508-c878a15b130c",
   "metadata": {},
   "outputs": [],
   "source": [
    "def generateHamiltonianOpen(J, g, n):\n",
    "    '''\n",
    "    Generate n qubit TFIM Hamiltonian.\n",
    "    '''\n",
    "\n",
    "    h = np.zeros((2**n, 2**n)) + 0j\n",
    "\n",
    "    for i in range(n-1):\n",
    "        pString = ['I'] * n\n",
    "        pString[i] = 'Z'\n",
    "        pString[i+1] = 'Z'\n",
    "        hzz = reduce(kron, [S[j] for j in pString])\n",
    "\n",
    "        pString = ['I'] * n\n",
    "        pString[i] = 'X'\n",
    "        hxx = reduce(kron, [S[j] for j in pString])\n",
    "\n",
    "        h += -J * hzz - g * hxx\n",
    "    pString = ['I'] * n\n",
    "    pString[n-1] = 'X'\n",
    "    hxx += reduce(kron, [S[j] for j in pString])\n",
    "    h -= g*hxx\n",
    "    return h\n",
    "\n",
    "def generateHamiltonianPeriodic(J, g, n):\n",
    "    '''\n",
    "    Generate n qubit TFIM Hamiltonian.\n",
    "    '''\n",
    "\n",
    "    h = np.zeros((2**n, 2**n)) + 0j\n",
    "\n",
    "    for i in range(n-1):\n",
    "        pString = ['I'] * n\n",
    "        pString[i] = 'Z'\n",
    "        pString[i+1] = 'Z'\n",
    "        hzz = reduce(kron, [S[j] for j in pString])\n",
    "\n",
    "        pString = ['I'] * n\n",
    "        pString[i] = 'X'\n",
    "        hxx = reduce(kron, [S[j] for j in pString])\n",
    "\n",
    "        h += -J * hzz - g * hxx\n",
    "\n",
    "    pString = ['I'] * n\n",
    "    pString[n-1] = 'Z'\n",
    "    pString[0] = 'Z'\n",
    "    hzz = reduce(kron, [S[j] for j in pString])\n",
    "    \n",
    "    pString = ['I'] * n\n",
    "    pString[n-1] = 'X'\n",
    "    hxx += reduce(kron, [S[j] for j in pString])\n",
    "    h += -J * hzz - g*hxx\n",
    "    return h"
   ]
  },
  {
   "cell_type": "code",
   "execution_count": 6,
   "id": "afce794b-42c4-42bb-a5ef-d203b53349a7",
   "metadata": {},
   "outputs": [],
   "source": [
    "J = 1\n",
    "g = 0.5\n",
    "L = 4 \n",
    "kbT = 0.2\n",
    "beta = 1/kbT\n",
    "\n",
    "h = generateHamiltonianOpen(J, g, L)\n",
    "evals, evecs = eigh(h)\n",
    "\n",
    "partFuncZ = np.sum(np.exp(-beta*evals))"
   ]
  },
  {
   "cell_type": "code",
   "execution_count": 7,
   "id": "80d0c931-45ab-4b04-8815-86d3d7ad09cb",
   "metadata": {},
   "outputs": [
    {
     "data": {
      "text/plain": [
       "131967552.76635696"
      ]
     },
     "execution_count": 7,
     "metadata": {},
     "output_type": "execute_result"
    }
   ],
   "source": [
    "partFuncZ"
   ]
  },
  {
   "cell_type": "markdown",
   "id": "9bcf3432-c893-435b-8153-5dbeec052d68",
   "metadata": {},
   "source": [
    "- Checked that evecs are normalised (they are)"
   ]
  },
  {
   "cell_type": "code",
   "execution_count": 8,
   "id": "fc888f9c-c6cf-46ce-950e-e580a251bebd",
   "metadata": {},
   "outputs": [],
   "source": [
    "thermalExpH = 0.0\n",
    "for i, eval in enumerate(evals):\n",
    "    thermalExpH += np.exp(-beta*eval)*eval\n",
    "thermalExpH /= partFuncZ"
   ]
  },
  {
   "cell_type": "code",
   "execution_count": 9,
   "id": "a3fd8961-700e-4a81-a290-61a0ed44bb0f",
   "metadata": {},
   "outputs": [
    {
     "data": {
      "text/plain": [
       "-0.904297370637035"
      ]
     },
     "execution_count": 9,
     "metadata": {},
     "output_type": "execute_result"
    }
   ],
   "source": [
    "thermalExpH/L"
   ]
  },
  {
   "cell_type": "code",
   "execution_count": 10,
   "id": "3fe8fe71-61e4-4257-a0b4-b2ee59e91725",
   "metadata": {},
   "outputs": [],
   "source": [
    "thermalExpH = np.sum(np.exp(-beta*evals)*evals) / partFuncZ"
   ]
  },
  {
   "cell_type": "code",
   "execution_count": 11,
   "id": "55a64799-1734-43d1-a681-223de9b99c1b",
   "metadata": {},
   "outputs": [
    {
     "data": {
      "text/plain": [
       "-0.9042973706370352"
      ]
     },
     "execution_count": 11,
     "metadata": {},
     "output_type": "execute_result"
    }
   ],
   "source": [
    "thermalExpH/L"
   ]
  },
  {
   "cell_type": "code",
   "execution_count": 12,
   "id": "0dca18d6-6a1a-4944-937b-141774e016ed",
   "metadata": {},
   "outputs": [
    {
     "name": "stderr",
     "output_type": "stream",
     "text": [
      "/tmp/ipykernel_4265/3640690986.py:15: RuntimeWarning: overflow encountered in exp\n",
      "  partFuncZOpen = np.sum(np.exp(-beta*evalsOpen))\n",
      "/tmp/ipykernel_4265/3640690986.py:16: RuntimeWarning: overflow encountered in exp\n",
      "  expHOpen[i] = np.sum(np.exp(-beta*evalsOpen)*evalsOpen) / (L*partFuncZOpen)\n",
      "/tmp/ipykernel_4265/3640690986.py:16: RuntimeWarning: invalid value encountered in scalar divide\n",
      "  expHOpen[i] = np.sum(np.exp(-beta*evalsOpen)*evalsOpen) / (L*partFuncZOpen)\n",
      "/tmp/ipykernel_4265/3640690986.py:17: RuntimeWarning: overflow encountered in exp\n",
      "  partFuncZPBC = np.sum(np.exp(-beta*evalsPBC))\n",
      "/tmp/ipykernel_4265/3640690986.py:18: RuntimeWarning: overflow encountered in exp\n",
      "  expHPBC[i] = np.sum(np.exp(-beta*evalsPBC)*evalsPBC) / (L*partFuncZPBC)\n",
      "/tmp/ipykernel_4265/3640690986.py:18: RuntimeWarning: invalid value encountered in scalar divide\n",
      "  expHPBC[i] = np.sum(np.exp(-beta*evalsPBC)*evalsPBC) / (L*partFuncZPBC)\n"
     ]
    }
   ],
   "source": [
    "kbTs = np.linspace(1e-5, 1.0, 20)\n",
    "betas = 1/kbTs\n",
    "expHOpen = np.zeros(len(kbTs))\n",
    "expHPBC = np.zeros(len(kbTs))\n",
    "J = 1\n",
    "g = 0.5\n",
    "L = 10 \n",
    "\n",
    "hOpen = generateHamiltonianOpen(J, g, L)\n",
    "evalsOpen, evecsOpen = eigh(hOpen)\n",
    "\n",
    "hPBC = generateHamiltonianPeriodic(J, g, L)\n",
    "evalsPBC, evecsPBC = eigh(hPBC)\n",
    "for i, beta in enumerate(betas):\n",
    "    partFuncZOpen = np.sum(np.exp(-beta*evalsOpen))\n",
    "    expHOpen[i] = np.sum(np.exp(-beta*evalsOpen)*evalsOpen) / (L*partFuncZOpen)\n",
    "    partFuncZPBC = np.sum(np.exp(-beta*evalsPBC))\n",
    "    expHPBC[i] = np.sum(np.exp(-beta*evalsPBC)*evalsPBC) / (L*partFuncZPBC)"
   ]
  },
  {
   "cell_type": "code",
   "execution_count": 13,
   "id": "7722588a-0910-4b2a-822b-3f01d3c02021",
   "metadata": {},
   "outputs": [
    {
     "data": {
      "image/png": "[encoded data removed]",
      "text/plain": [
       "<Figure size 640x480 with 1 Axes>"
      ]
     },
     "metadata": {},
     "output_type": "display_data"
    }
   ],
   "source": [
    "plt.plot(kbTs, expHOpen, 'x', label='ED open')\n",
    "plt.plot(kbTs, expHPBC, 'x', label='ED periodic')\n",
    "plt.legend()\n",
    "plt.show()"
   ]
  },
  {
   "cell_type": "code",
   "execution_count": null,
   "id": "aa35c667-7907-4547-afa5-46c4da124ac5",
   "metadata": {},
   "outputs": [],
   "source": []
  }
 ],
 "metadata": {
  "kernelspec": {
   "display_name": "Python 3 (ipykernel)",
   "language": "python",
   "name": "python3"
  },
  "language_info": {
   "codemirror_mode": {
    "name": "ipython",
    "version": 3
   },
   "file_extension": ".py",
   "mimetype": "text/x-python",
   "name": "python",
   "nbconvert_exporter": "python",
   "pygments_lexer": "ipython3",
   "version": "3.10.11"
  }
 },
 "nbformat": 4,
 "nbformat_minor": 5
}
