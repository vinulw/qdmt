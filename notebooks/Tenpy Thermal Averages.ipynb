{
 "cells": [
  {
   "cell_type": "code",
   "execution_count": 1,
   "id": "4d3baecc-7b00-435b-ae8c-8afe40c7f86c",
   "metadata": {},
   "outputs": [],
   "source": [
    "import numpy as np\n",
    "import matplotlib.pyplot as plt\n",
    "import tenpy"
   ]
  },
  {
   "cell_type": "markdown",
   "id": "2752abaa-81cc-4301-9f9b-a5d746408b1b",
   "metadata": {},
   "source": [
    "## General Plan\n",
    "\n",
    "- Initialise `TFIModel`\n",
    "    - Need to look into how to do this. \n",
    "- Initialise state `psi` as the infinite temperature state. See `tenpy.networks.purification_mps.PurificationMPS`\n",
    "    - Can do this either using the method `from_infiniteT`or `from_infiniteT_canonical`\n",
    "    - Need to provide these methods a list of type `Site`. As long as I am using a `tenpy.Model`can use the method `model.lat.mps_sites()` to generate the sites. \n",
    "- `tenpy.algorithms.purification.PurificationTEBD` performs the TEBD to prepare Gibbs state at a particular temperature $\\beta$\n",
    "    - method `run_imaginary` runs imaginary time evolution to prepare the tstate at a given $\\beta$\n",
    "- From this thermal state $\\ket{\\psi(\\beta)}$ we can calculate thermal expectation values\n",
    "    - Can do this using the method `PurificationMPS.expectation_value` "
   ]
  },
  {
   "cell_type": "code",
   "execution_count": null,
   "id": "f636c7f0-b35b-4fa0-a094-9d5ff3681d6a",
   "metadata": {},
   "outputs": [],
   "source": []
  }
 ],
 "metadata": {
  "kernelspec": {
   "display_name": "Python 3 (ipykernel)",
   "language": "python",
   "name": "python3"
  },
  "language_info": {
   "codemirror_mode": {
    "name": "ipython",
    "version": 3
   },
   "file_extension": ".py",
   "mimetype": "text/x-python",
   "name": "python",
   "nbconvert_exporter": "python",
   "pygments_lexer": "ipython3",
   "version": "3.10.11"
  }
 },
 "nbformat": 4,
 "nbformat_minor": 5
}
