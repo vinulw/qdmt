{
 "cells": [
  {
   "cell_type": "code",
   "execution_count": 1,
   "id": "2e5f6e37-35aa-4cea-87f2-f9005e4a70c4",
   "metadata": {
    "tags": []
   },
   "outputs": [],
   "source": [
    "import numpy as np\n",
    "import matplotlib.pyplot as plt\n",
    "import scipy\n",
    "from scipy.integrate import quad"
   ]
  },
  {
   "cell_type": "markdown",
   "id": "234bb397-31cb-4b03-a05e-8338bb78e131",
   "metadata": {},
   "source": [
    "# Declaring TFIModel \n",
    "\n",
    "Note this is taken from the tenpy documentation: https://tenpy.readthedocs.io/en/latest/toycode_stubs/b_model.html"
   ]
  },
  {
   "cell_type": "code",
   "execution_count": 2,
   "id": "876cd5c2-cf04-4301-91c8-bcc777b61797",
   "metadata": {
    "tags": []
   },
   "outputs": [],
   "source": [
    "class TFIModel:\n",
    "    r\"\"\"Simple class generating the Hamiltonian of the transverse-field Ising model.\n",
    "\n",
    "    The Hamiltonian reads\n",
    "    .. math ::\n",
    "        H = - J \\sum_{i} \\sigma^z_i \\sigma^z_{i+1} - g \\sum_{i} \\sigma^x_i\n",
    "\n",
    "    Parameters\n",
    "    ----------\n",
    "    L : int\n",
    "        Number of sites.\n",
    "    J, g : float\n",
    "        Coupling parameters of the above defined Hamiltonian.\n",
    "    bc : 'infinite', 'finite'\n",
    "        Boundary conditions.\n",
    "\n",
    "    Attributes\n",
    "    ----------\n",
    "    L : int\n",
    "        Number of sites.\n",
    "    bc : 'infinite', 'finite'\n",
    "        Boundary conditions.\n",
    "    sigmax, sigmay, sigmaz, id :\n",
    "        Local operators, namely the Pauli matrices and identity.\n",
    "    H_bonds : list of np.Array[ndim=4]\n",
    "        The Hamiltonian written in terms of local 2-site operators, ``H = sum_i H_bonds[i]``.\n",
    "        Each ``H_bonds[i]`` has (physical) legs (i out, (i+1) out, i in, (i+1) in),\n",
    "        in short ``i j i* j*``.\n",
    "    H_mpo : lit of np.Array[ndim=4]\n",
    "        The Hamiltonian written as an MPO.\n",
    "        Each ``H_mpo[i]`` has legs (virtual left, virtual right, physical out, physical in),\n",
    "        in short ``wL wR i i*``.\n",
    "    \"\"\"\n",
    "    def __init__(self, L, J, g, bc='finite'):\n",
    "        assert bc in ['finite', 'infinite']\n",
    "        self.L, self.d, self.bc = L, 2, bc\n",
    "        self.J, self.g = J, g\n",
    "        self.sigmax = np.array([[0., 1.], [1., 0.]])\n",
    "        self.sigmay = np.array([[0., -1j], [1j, 0.]])\n",
    "        self.sigmaz = np.array([[1., 0.], [0., -1.]])\n",
    "        self.id = np.eye(2)\n",
    "        self.init_H_bonds()\n",
    "        self.init_H_mpo()\n",
    "\n",
    "    def init_H_bonds(self):\n",
    "        \"\"\"Initialize `H_bonds` hamiltonian.\n",
    "\n",
    "        Called by __init__().\n",
    "        \"\"\"\n",
    "        X, Z, Id = self.sigmax, self.sigmaz, self.id\n",
    "        d = self.d\n",
    "        nbonds = self.L - 1 if self.bc == 'finite' else self.L\n",
    "        H_list = []\n",
    "        for i in range(nbonds):\n",
    "            gL = gR = 0.5 * self.g\n",
    "            if self.bc == 'finite':\n",
    "                if i == 0:\n",
    "                    gL = self.g\n",
    "                if i + 1 == self.L - 1:\n",
    "                    gR = self.g\n",
    "            H_bond = -self.J * np.kron(Z, Z) - gL * np.kron(X, Id) - gR * np.kron(Id, X)\n",
    "            # note: kron is short-hand for outer product + grouping bra and ket legs.\n",
    "            # H_bond has legs ``i, j, i*, j*``\n",
    "            H_list.append(np.reshape(H_bond, [d, d, d, d]))\n",
    "        self.H_bonds = H_list\n",
    "\n",
    "    # (note: not required for TEBD)\n",
    "    def init_H_mpo(self):\n",
    "        \"\"\"Initialize `H_mpo` Hamiltonian.\n",
    "\n",
    "        Called by __init__().\n",
    "        \"\"\"\n",
    "        w_list = []\n",
    "        for i in range(self.L):\n",
    "            w = np.zeros((3, 3, self.d, self.d), dtype=float)\n",
    "            w[0, 0] = w[2, 2] = self.id\n",
    "            w[0, 1] = self.sigmaz\n",
    "            w[0, 2] = -self.g * self.sigmax\n",
    "            w[1, 2] = -self.J * self.sigmaz\n",
    "            w_list.append(w)\n",
    "        self.H_mpo = w_list"
   ]
  },
  {
   "cell_type": "code",
   "execution_count": 3,
   "id": "2f857f5a-c13b-4e2c-b91f-32e1f015449e",
   "metadata": {},
   "outputs": [],
   "source": [
    "def infinite_gs_energy(J, g):\n",
    "    \"\"\"For comparison: Calculate groundstate energy density from analytic formula.\n",
    "\n",
    "    The analytic formula stems from mapping the model to free fermions, see P. Pfeuty, The one-\n",
    "    dimensional Ising model with a transverse field, Annals of Physics 57, p. 79 (1970). Note that\n",
    "    we use Pauli matrices compared this reference using spin-1/2 matrices and replace the sum_k ->\n",
    "    integral dk/2pi to obtain the result in the N -> infinity limit.\n",
    "    \"\"\"\n",
    "    def f(k, lambda_):\n",
    "        return np.sqrt(1 + lambda_**2 + 2 * lambda_ * np.cos(k))\n",
    "\n",
    "    E0_exact = -g / (J * 2. * np.pi) * quad(f, -np.pi, np.pi, args=(J / g, ))[0]\n",
    "    return E0_exact"
   ]
  },
  {
   "cell_type": "code",
   "execution_count": 4,
   "id": "9f75cb49-d239-4930-96fc-c69dbaed697b",
   "metadata": {},
   "outputs": [
    {
     "data": {
      "text/plain": [
       "1.0100252539845787"
      ]
     },
     "execution_count": 4,
     "metadata": {},
     "output_type": "execute_result"
    }
   ],
   "source": [
    "infinite_gs_energy(-1, 0.2)"
   ]
  },
  {
   "cell_type": "code",
   "execution_count": 8,
   "id": "c1928248-a43d-465d-a947-45fe4f70f41b",
   "metadata": {
    "tags": []
   },
   "outputs": [],
   "source": [
    "n = 16\n",
    "g_range = np.linspace(0.1, 1.7, n)"
   ]
  },
  {
   "cell_type": "code",
   "execution_count": 9,
   "id": "df2785a2-4506-4b63-818e-82a92d0d2b57",
   "metadata": {},
   "outputs": [],
   "source": [
    "J = -1"
   ]
  },
  {
   "cell_type": "code",
   "execution_count": 14,
   "id": "bc18990e",
   "metadata": {},
   "outputs": [],
   "source": [
    "energies = np.zeros(n)\n",
    "for i, g in enumerate(g_range):\n",
    "    energy_g = infinite_gs_energy(J, -g)\n",
    "    energies[i] = energy_g"
   ]
  },
  {
   "cell_type": "code",
   "execution_count": 15,
   "id": "ed3efd4c",
   "metadata": {},
   "outputs": [
    {
     "data": {
      "text/plain": [
       "[<matplotlib.lines.Line2D at 0x7f3bac74ca90>]"
      ]
     },
     "execution_count": 15,
     "metadata": {},
     "output_type": "execute_result"
    },
    {
     "data": {
      "image/png": "[encoded data removed]",
      "text/plain": [
       "<Figure size 640x480 with 1 Axes>"
      ]
     },
     "metadata": {},
     "output_type": "display_data"
    }
   ],
   "source": [
    "plt.plot(g_range, energies)"
   ]
  },
  {
   "cell_type": "code",
   "execution_count": null,
   "id": "be38fba8",
   "metadata": {},
   "outputs": [],
   "source": []
  }
 ],
 "metadata": {
  "kernelspec": {
   "display_name": "qdmt-env",
   "language": "python",
   "name": "qdmt-env"
  },
  "language_info": {
   "codemirror_mode": {
    "name": "ipython",
    "version": 3
   },
   "file_extension": ".py",
   "mimetype": "text/x-python",
   "name": "python",
   "nbconvert_exporter": "python",
   "pygments_lexer": "ipython3",
   "version": "3.10.6"
  }
 },
 "nbformat": 4,
 "nbformat_minor": 5
}
