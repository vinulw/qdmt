{
 "cells": [
  {
   "cell_type": "code",
   "execution_count": 5,
   "id": "2e5f6e37-35aa-4cea-87f2-f9005e4a70c4",
   "metadata": {
    "tags": []
   },
   "outputs": [],
   "source": [
    "import numpy as np\n",
    "import matplotlib.pyplot as plt\n",
    "import scipy\n",
    "from scipy.integrate import quad\n",
    "import scipy.sparse as sparse\n",
    "from scipy.sparse.linalg import eigsh\n",
    "import warnings\n",
    "import scipy.integrate\n"
   ]
  },
  {
   "cell_type": "markdown",
   "id": "234bb397-31cb-4b03-a05e-8338bb78e131",
   "metadata": {},
   "source": [
    "# Declaring TFIModel \n",
    "\n",
    "Note this is taken from the tenpy documentation: https://tenpy.readthedocs.io/en/latest/toycode_stubs/b_model.html"
   ]
  },
  {
   "cell_type": "code",
   "execution_count": 14,
   "id": "516d1b5e",
   "metadata": {},
   "outputs": [],
   "source": [
    "def finite_gs_energy(L, J, g, return_psi=False):\n",
    "    \"\"\"For comparison: obtain ground state energy from exact diagonalization.\n",
    "\n",
    "    Exponentially expensive in L, only works for small enough `L` <~ 20.\n",
    "    \"\"\"\n",
    "    if L >= 20:\n",
    "        warnings.warn(\"Large L: Exact diagonalization might take a long time!\")\n",
    "    # get single site operaors\n",
    "    sx = sparse.csr_matrix(np.array([[0., 1.], [1., 0.]]))\n",
    "    sz = sparse.csr_matrix(np.array([[1., 0.], [0., -1.]]))\n",
    "    id = sparse.csr_matrix(np.eye(2))\n",
    "    sx_list = []  # sx_list[i] = kron([id, id, ..., id, sx, id, .... id])\n",
    "    sz_list = []\n",
    "    for i_site in range(L):\n",
    "        x_ops = [id] * L\n",
    "        z_ops = [id] * L\n",
    "        x_ops[i_site] = sx\n",
    "        z_ops[i_site] = sz\n",
    "        X = x_ops[0]\n",
    "        Z = z_ops[0]\n",
    "        for j in range(1, L):\n",
    "            X = sparse.kron(X, x_ops[j], 'csr')\n",
    "            Z = sparse.kron(Z, z_ops[j], 'csr')\n",
    "        sx_list.append(X)\n",
    "        sz_list.append(Z)\n",
    "    H_zz = sparse.csr_matrix((2**L, 2**L))\n",
    "    H_x = sparse.csr_matrix((2**L, 2**L))\n",
    "    for i in range(L - 1):\n",
    "        H_zz = H_zz + sz_list[i] * sz_list[(i + 1) % L]\n",
    "    for i in range(L):\n",
    "        H_x = H_x + sx_list[i]\n",
    "    H = -J * H_zz - g/2. * H_x\n",
    "    E, V = eigsh(H, k=1, which='SA', return_eigenvectors=True, ncv=20)\n",
    "    if return_psi:\n",
    "        return E[0], V[:, 0]\n",
    "    return E[0]\n"
   ]
  },
  {
   "cell_type": "code",
   "execution_count": 15,
   "id": "2f857f5a-c13b-4e2c-b91f-32e1f015449e",
   "metadata": {},
   "outputs": [],
   "source": [
    "def infinite_gs_energy(J, g):\n",
    "    \"\"\"For comparison: Calculate groundstate energy density from analytic formula.\n",
    "\n",
    "    The analytic formula stems from mapping the model to free fermions, see P. Pfeuty, The one-\n",
    "    dimensional Ising model with a transverse field, Annals of Physics 57, p. 79 (1970). Note that\n",
    "    we use Pauli matrices compared this reference using spin-1/2 matrices and replace the sum_k ->\n",
    "    integral dk/2pi to obtain the result in the N -> infinity limit.\n",
    "    \"\"\"\n",
    "    def f(k, lambda_):\n",
    "        return np.sqrt(1 + lambda_**2 + 2 * lambda_ * np.cos(k))\n",
    "\n",
    "    E0_exact = -g / (J * 2. * np.pi) * quad(f, -np.pi, np.pi, args=(J / g, ))[0]\n",
    "    return E0_exact"
   ]
  },
  {
   "cell_type": "code",
   "execution_count": 16,
   "id": "c1928248-a43d-465d-a947-45fe4f70f41b",
   "metadata": {
    "tags": []
   },
   "outputs": [],
   "source": [
    "n = 16\n",
    "g_range = np.linspace(0.1, 1.7, n)"
   ]
  },
  {
   "cell_type": "code",
   "execution_count": 17,
   "id": "df2785a2-4506-4b63-818e-82a92d0d2b57",
   "metadata": {},
   "outputs": [],
   "source": [
    "J = -1"
   ]
  },
  {
   "cell_type": "code",
   "execution_count": 18,
   "id": "bc18990e",
   "metadata": {},
   "outputs": [],
   "source": [
    "energies = np.zeros(n)\n",
    "for i, g in enumerate(g_range):\n",
    "    energy_g = infinite_gs_energy(J, -g)\n",
    "    energies[i] = energy_g"
   ]
  },
  {
   "cell_type": "code",
   "execution_count": 19,
   "id": "ed3efd4c",
   "metadata": {},
   "outputs": [
    {
     "data": {
      "text/plain": [
       "[<matplotlib.lines.Line2D at 0x7fc2012440d0>]"
      ]
     },
     "execution_count": 19,
     "metadata": {},
     "output_type": "execute_result"
    },
    {
     "data": {
      "image/png": "[encoded data removed]",
      "text/plain": [
       "<Figure size 432x288 with 1 Axes>"
      ]
     },
     "metadata": {
      "needs_background": "light"
     },
     "output_type": "display_data"
    }
   ],
   "source": [
    "plt.plot(g_range, energies)"
   ]
  },
  {
   "cell_type": "code",
   "execution_count": 20,
   "id": "be38fba8",
   "metadata": {},
   "outputs": [],
   "source": [
    "L = 4\n",
    "fenergies = np.zeros(n)\n",
    "\n",
    "for i, g in enumerate(g_range):\n",
    "    fenergy_g = finite_gs_energy(L, J, g, return_psi=False)\n",
    "    fenergies[i] = fenergy_g"
   ]
  },
  {
   "cell_type": "code",
   "execution_count": 22,
   "id": "25f256d4",
   "metadata": {},
   "outputs": [
    {
     "data": {
      "text/plain": [
       "[<matplotlib.lines.Line2D at 0x7fc2016dc580>]"
      ]
     },
     "execution_count": 22,
     "metadata": {},
     "output_type": "execute_result"
    },
    {
     "data": {
      "image/png": "[encoded data removed]",
      "text/plain": [
       "<Figure size 432x288 with 1 Axes>"
      ]
     },
     "metadata": {
      "needs_background": "light"
     },
     "output_type": "display_data"
    }
   ],
   "source": [
    "plt.plot(g_range, fenergies/3.)"
   ]
  },
  {
   "cell_type": "code",
   "execution_count": null,
   "id": "5d8b3b12",
   "metadata": {},
   "outputs": [],
   "source": []
  }
 ],
 "metadata": {
  "kernelspec": {
   "display_name": "Python 3 (ipykernel)",
   "language": "python",
   "name": "python3"
  },
  "language_info": {
   "codemirror_mode": {
    "name": "ipython",
    "version": 3
   },
   "file_extension": ".py",
   "mimetype": "text/x-python",
   "name": "python",
   "nbconvert_exporter": "python",
   "pygments_lexer": "ipython3",
   "version": "3.8.10"
  }
 },
 "nbformat": 4,
 "nbformat_minor": 5
}
