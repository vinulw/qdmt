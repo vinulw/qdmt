{
 "cells": [
  {
   "cell_type": "markdown",
   "id": "9f3e1ff8",
   "metadata": {},
   "source": [
    "# Optimisng State Results"
   ]
  },
  {
   "cell_type": "code",
   "execution_count": 1,
   "id": "9dca2008",
   "metadata": {},
   "outputs": [],
   "source": [
    "import numpy as np\n",
    "import matplotlib.pyplot as plt"
   ]
  },
  {
   "cell_type": "markdown",
   "id": "640dd6aa",
   "metadata": {},
   "source": [
    "## Trace Distance using raw VUMPS\n"
   ]
  },
  {
   "cell_type": "markdown",
   "id": "f6036301",
   "metadata": {},
   "source": [
    "Collecting data using `qdmt/optimise_state.py` see function `main_opt_vumps.py`"
   ]
  },
  {
   "cell_type": "code",
   "execution_count": 3,
   "id": "cac49c88",
   "metadata": {},
   "outputs": [],
   "source": [
    "fname = '../data/tdist_optimising_state.npy'\n",
    "data = np.load(fname)"
   ]
  },
  {
   "cell_type": "code",
   "execution_count": 5,
   "id": "6baca90d",
   "metadata": {
    "scrolled": true
   },
   "outputs": [
    {
     "data": {
      "text/plain": [
       "(array([57., 14., 11.,  4.,  6.,  2.,  3.,  1.,  0.,  2.]),\n",
       " array([5.88559412e-04, 8.98365684e-02, 1.79084577e-01, 2.68332586e-01,\n",
       "        3.57580595e-01, 4.46828604e-01, 5.36076613e-01, 6.25324622e-01,\n",
       "        7.14572631e-01, 8.03820640e-01, 8.93068649e-01]),\n",
       " <BarContainer object of 10 artists>)"
      ]
     },
     "execution_count": 5,
     "metadata": {},
     "output_type": "execute_result"
    },
    {
     "data": {
      "image/png": "[encoded data removed]",
      "text/plain": [
       "<Figure size 432x288 with 1 Axes>"
      ]
     },
     "metadata": {
      "needs_background": "light"
     },
     "output_type": "display_data"
    }
   ],
   "source": [
    "plt.hist(data)"
   ]
  },
  {
   "cell_type": "code",
   "execution_count": 7,
   "id": "b5677e83",
   "metadata": {},
   "outputs": [],
   "source": [
    "data_filtered = data[data < 0.2]"
   ]
  },
  {
   "cell_type": "code",
   "execution_count": 9,
   "id": "90b10381",
   "metadata": {},
   "outputs": [
    {
     "name": "stdout",
     "output_type": "stream",
     "text": [
      "Percentage less than 0.2:  72.0\n"
     ]
    }
   ],
   "source": [
    "print('Percentage less than 0.2: ', len(data_filtered) / len(data) * 100)"
   ]
  },
  {
   "cell_type": "code",
   "execution_count": 11,
   "id": "c9bee648",
   "metadata": {},
   "outputs": [
    {
     "data": {
      "image/png": "[encoded data removed]",
      "text/plain": [
       "<Figure size 432x288 with 1 Axes>"
      ]
     },
     "metadata": {
      "needs_background": "light"
     },
     "output_type": "display_data"
    }
   ],
   "source": [
    "counts, bins, patches = plt.hist(data_filtered)"
   ]
  },
  {
   "cell_type": "code",
   "execution_count": 13,
   "id": "39b30b0f",
   "metadata": {},
   "outputs": [
    {
     "name": "stdout",
     "output_type": "stream",
     "text": [
      "Percentage of data < 0.2 in smallest bin:\n"
     ]
    },
    {
     "data": {
      "text/plain": [
       "0.3472222222222222"
      ]
     },
     "execution_count": 13,
     "metadata": {},
     "output_type": "execute_result"
    }
   ],
   "source": [
    "print('Percentage of data < 0.2 in smallest bin:')\n",
    "counts[0] / len(data_filtered)"
   ]
  },
  {
   "cell_type": "code",
   "execution_count": 15,
   "id": "ba8e005f",
   "metadata": {},
   "outputs": [
    {
     "name": "stdout",
     "output_type": "stream",
     "text": [
      "Smallest bin boundaries: \n"
     ]
    },
    {
     "data": {
      "text/plain": [
       "array([0.00058856, 0.0201851 ])"
      ]
     },
     "execution_count": 15,
     "metadata": {},
     "output_type": "execute_result"
    }
   ],
   "source": [
    "print('Smallest bin boundaries: ')\n",
    "bins[0:2]"
   ]
  },
  {
   "cell_type": "markdown",
   "id": "5cb34a56",
   "metadata": {},
   "source": [
    "## Trace Distance using `scipy.optimize`"
   ]
  },
  {
   "cell_type": "code",
   "execution_count": 16,
   "id": "cdc52dc9",
   "metadata": {},
   "outputs": [],
   "source": [
    "fname = '../data/tdist_optimising_state_minimize.npy'\n",
    "data = np.load(fname)"
   ]
  },
  {
   "cell_type": "code",
   "execution_count": 17,
   "id": "7fed7c2b",
   "metadata": {
    "scrolled": true
   },
   "outputs": [
    {
     "data": {
      "text/plain": [
       "(array([96.,  0.,  1.,  1.,  0.,  0.,  1.,  0.,  0.,  1.]),\n",
       " array([5.36900916e-17, 5.48928953e-04, 1.09785791e-03, 1.64678686e-03,\n",
       "        2.19571581e-03, 2.74464476e-03, 3.29357372e-03, 3.84250267e-03,\n",
       "        4.39143162e-03, 4.94036058e-03, 5.48928953e-03]),\n",
       " <BarContainer object of 10 artists>)"
      ]
     },
     "execution_count": 17,
     "metadata": {},
     "output_type": "execute_result"
    },
    {
     "data": {
      "image/png": "[encoded data removed]",
      "text/plain": [
       "<Figure size 432x288 with 1 Axes>"
      ]
     },
     "metadata": {
      "needs_background": "light"
     },
     "output_type": "display_data"
    }
   ],
   "source": [
    "plt.hist(data)"
   ]
  },
  {
   "cell_type": "markdown",
   "id": "09e5fe5a",
   "metadata": {},
   "source": [
    "## Trace distance vumps with bias"
   ]
  },
  {
   "cell_type": "markdown",
   "id": "68e90503",
   "metadata": {},
   "source": [
    "Adding a bias to the density matrix. I.e. the input to vumps is\n",
    "\n",
    "$$\n",
    "\\rho + I\n",
    "$$"
   ]
  },
  {
   "cell_type": "code",
   "execution_count": 18,
   "id": "dd259619",
   "metadata": {},
   "outputs": [],
   "source": [
    "fname = '../data/tdist_optimising_state_eye.npy'\n",
    "data = np.load(fname)"
   ]
  },
  {
   "cell_type": "code",
   "execution_count": 19,
   "id": "05494b1e",
   "metadata": {
    "scrolled": true
   },
   "outputs": [
    {
     "data": {
      "text/plain": [
       "(array([51., 18., 14.,  3.,  2.,  3.,  3.,  3.,  1.,  2.]),\n",
       " array([5.00019564e-05, 1.15413547e-01, 2.30777092e-01, 3.46140637e-01,\n",
       "        4.61504182e-01, 5.76867728e-01, 6.92231273e-01, 8.07594818e-01,\n",
       "        9.22958363e-01, 1.03832191e+00, 1.15368545e+00]),\n",
       " <BarContainer object of 10 artists>)"
      ]
     },
     "execution_count": 19,
     "metadata": {},
     "output_type": "execute_result"
    },
    {
     "data": {
      "image/png": "[encoded data removed]",
      "text/plain": [
       "<Figure size 432x288 with 1 Axes>"
      ]
     },
     "metadata": {
      "needs_background": "light"
     },
     "output_type": "display_data"
    }
   ],
   "source": [
    "plt.hist(data)"
   ]
  },
  {
   "cell_type": "markdown",
   "id": "10ab2093",
   "metadata": {},
   "source": [
    "Now taking away from rho\n",
    "\n",
    "$$\n",
    "\\rho - I\n",
    "$$"
   ]
  },
  {
   "cell_type": "code",
   "execution_count": 21,
   "id": "a3ad6b63",
   "metadata": {},
   "outputs": [],
   "source": [
    "fname = '../data/tdist_optimising_state_minus_eye.npy'\n",
    "data = np.load(fname)"
   ]
  },
  {
   "cell_type": "code",
   "execution_count": 22,
   "id": "ec6726c8",
   "metadata": {
    "scrolled": true
   },
   "outputs": [
    {
     "data": {
      "text/plain": [
       "(array([57., 15.,  8.,  8.,  3.,  2.,  2.,  2.,  1.,  2.]),\n",
       " array([2.25100214e-04, 1.03193104e-01, 2.06161109e-01, 3.09129113e-01,\n",
       "        4.12097117e-01, 5.15065121e-01, 6.18033125e-01, 7.21001129e-01,\n",
       "        8.23969134e-01, 9.26937138e-01, 1.02990514e+00]),\n",
       " <BarContainer object of 10 artists>)"
      ]
     },
     "execution_count": 22,
     "metadata": {},
     "output_type": "execute_result"
    },
    {
     "data": {
      "image/png": "[encoded data removed]",
      "text/plain": [
       "<Figure size 432x288 with 1 Axes>"
      ]
     },
     "metadata": {
      "needs_background": "light"
     },
     "output_type": "display_data"
    }
   ],
   "source": [
    "plt.hist(data)"
   ]
  },
  {
   "cell_type": "code",
   "execution_count": null,
   "id": "da372e7b",
   "metadata": {},
   "outputs": [],
   "source": []
  }
 ],
 "metadata": {
  "kernelspec": {
   "display_name": "Python 3 (ipykernel)",
   "language": "python",
   "name": "python3"
  },
  "language_info": {
   "codemirror_mode": {
    "name": "ipython",
    "version": 3
   },
   "file_extension": ".py",
   "mimetype": "text/x-python",
   "name": "python",
   "nbconvert_exporter": "python",
   "pygments_lexer": "ipython3",
   "version": "3.8.10"
  }
 },
 "nbformat": 4,
 "nbformat_minor": 5
}
