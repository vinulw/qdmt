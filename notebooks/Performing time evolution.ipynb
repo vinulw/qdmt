{
 "cells": [
  {
   "cell_type": "code",
   "execution_count": 1,
   "id": "a2adadcd",
   "metadata": {},
   "outputs": [],
   "source": [
    "%load_ext autoreload \n",
    "%autoreload 2"
   ]
  },
  {
   "cell_type": "code",
   "execution_count": 2,
   "id": "99837ed9",
   "metadata": {},
   "outputs": [],
   "source": [
    "import sys\n",
    "sys.path.insert(0, '../qdmt/')"
   ]
  },
  {
   "cell_type": "code",
   "execution_count": 3,
   "id": "adae23e9",
   "metadata": {},
   "outputs": [],
   "source": [
    "import numpy as np\n",
    "import matplotlib.pyplot as plt\n",
    "import scipy.linalg as la\n",
    "from tqdm import tqdm"
   ]
  },
  {
   "cell_type": "code",
   "execution_count": 4,
   "id": "07ecbd4e",
   "metadata": {},
   "outputs": [],
   "source": [
    "from uMPSHelpers import *"
   ]
  },
  {
   "cell_type": "markdown",
   "id": "ad653224",
   "metadata": {},
   "source": [
    "Want to implement the time evolution. \n",
    "\n",
    "- [x] Prepare the ground state \n",
    "- [x] Evolve state \n",
    "- [ ] Optimise overlap between evolved state and reference state \n",
    "- [ ] Loop for n time steps"
   ]
  },
  {
   "cell_type": "markdown",
   "id": "0d601d28",
   "metadata": {},
   "source": [
    "### Preparing ground state"
   ]
  },
  {
   "cell_type": "code",
   "execution_count": 5,
   "id": "9b5c5e76",
   "metadata": {},
   "outputs": [],
   "source": [
    "from hamiltonian import TransverseIsing\n",
    "import vumps as v"
   ]
  },
  {
   "cell_type": "code",
   "execution_count": 6,
   "id": "e1ea4d07",
   "metadata": {},
   "outputs": [],
   "source": [
    "N = 2\n",
    "D, d = 4, 2\n",
    "A0 = createMPS(D, d)\n",
    "A0 = normalizeMPS(A0)"
   ]
  },
  {
   "cell_type": "code",
   "execution_count": 7,
   "id": "a9132e38",
   "metadata": {},
   "outputs": [],
   "source": [
    "g_range = np.linspace(0.1, 2.0, 20)"
   ]
  },
  {
   "cell_type": "code",
   "execution_count": 8,
   "id": "2d27a88d",
   "metadata": {},
   "outputs": [],
   "source": [
    "energies = []\n",
    "Als = []\n",
    "for g in tqdm(g_range): \n",
    "    h = TransverseIsing(1, g, N)\n",
    "    hten = v.tensorOperator(h)\n",
    "\n",
    "    Al, Ac, Ar, C = v.vumps(hten, D, d, A0=A0, tol=1e-8, tolFactor=1e-2, verbose=False)\n",
    "    \n",
    "    energies.append(v.expValNMixed(hten, Ac, Ar))\n",
    "    Als.append(Al)"
   ]
  },
  {
   "cell_type": "code",
   "execution_count": 9,
   "id": "500834b2",
   "metadata": {
    "scrolled": true
   },
   "outputs": [
    {
     "data": {
      "text/plain": [
       "[<matplotlib.lines.Line2D at 0x7fe60757e760>]"
      ]
     },
     "execution_count": 9,
     "metadata": {},
     "output_type": "execute_result"
    },
    {
     "data": {
      "image/png": "[encoded data removed]",
      "text/plain": [
       "<Figure size 432x288 with 1 Axes>"
      ]
     },
     "metadata": {
      "needs_background": "light"
     },
     "output_type": "display_data"
    }
   ],
   "source": [
    "plt.plot(g_range, np.real(energies))"
   ]
  },
  {
   "cell_type": "code",
   "execution_count": 10,
   "id": "2c4b751b",
   "metadata": {},
   "outputs": [
    {
     "name": "stdout",
     "output_type": "stream",
     "text": [
      "0.2\n"
     ]
    }
   ],
   "source": [
    "## Starting with the g=0.2 groundstate \n",
    "i = 1\n",
    "print(g_range[i])\n",
    "AInit = Als[i]"
   ]
  },
  {
   "cell_type": "markdown",
   "id": "1eac53c3",
   "metadata": {},
   "source": [
    "### Evolving States"
   ]
  },
  {
   "cell_type": "code",
   "execution_count": 11,
   "id": "fe84a991",
   "metadata": {},
   "outputs": [],
   "source": [
    "import evolve as e"
   ]
  },
  {
   "cell_type": "code",
   "execution_count": 27,
   "id": "62c7e635",
   "metadata": {},
   "outputs": [],
   "source": [
    "g2 = 1.5\n",
    "dtau=0.1\n",
    "h2 = TransverseIsing(1, g, 2)\n",
    "U2 = la.expm(-1j*h2*dtau)"
   ]
  },
  {
   "cell_type": "code",
   "execution_count": 28,
   "id": "a812b3f6",
   "metadata": {},
   "outputs": [],
   "source": [
    "N = 4\n",
    "rhodt = e.firstOrderTrotterEvolve(AInit, U2, U2, N)"
   ]
  },
  {
   "cell_type": "code",
   "execution_count": 29,
   "id": "2bc2067c",
   "metadata": {},
   "outputs": [
    {
     "data": {
      "text/plain": [
       "(2, 2, 2, 2, 2, 2, 2, 2)"
      ]
     },
     "execution_count": 29,
     "metadata": {},
     "output_type": "execute_result"
    }
   ],
   "source": [
    "rhodt.shape"
   ]
  },
  {
   "cell_type": "markdown",
   "id": "8eb7f788",
   "metadata": {},
   "source": [
    "### Optimising overlap between evolved state and reference state"
   ]
  },
  {
   "cell_type": "code",
   "execution_count": 30,
   "id": "00bc4db6",
   "metadata": {},
   "outputs": [],
   "source": [
    "import optimise as o"
   ]
  },
  {
   "cell_type": "code",
   "execution_count": 35,
   "id": "d796abd1",
   "metadata": {},
   "outputs": [],
   "source": [
    "A0 = np.copy(AInit)\n",
    "D = 8"
   ]
  },
  {
   "cell_type": "code",
   "execution_count": 36,
   "id": "f8f6cbb8",
   "metadata": {},
   "outputs": [
    {
     "name": "stdout",
     "output_type": "stream",
     "text": [
      "iteration:\t50\tdist:\t0.000857446676\tgradient norm:\t1.2836e-01\n",
      "iteration:\t100\tdist:\t0.000101338566\tgradient norm:\t7.7190e-03\n",
      "iteration:\t150\tdist:\t0.000098598000\tgradient norm:\t5.7692e-04\n",
      "iteration:\t200\tdist:\t0.000098528692\tgradient norm:\t4.6223e-04\n",
      "iteration:\t250\tdist:\t0.000098464054\tgradient norm:\t4.5805e-04\n",
      "iteration:\t300\tdist:\t0.000098400269\tgradient norm:\t4.5414e-04\n",
      "iteration:\t350\tdist:\t0.000098337356\tgradient norm:\t4.5030e-04\n",
      "iteration:\t400\tdist:\t0.000098275295\tgradient norm:\t4.4654e-04\n",
      "iteration:\t450\tdist:\t0.000098214070\tgradient norm:\t4.4285e-04\n",
      "iteration:\t500\tdist:\t0.000098153662\tgradient norm:\t4.3924e-04\n",
      "iteration:\t550\tdist:\t0.000098094055\tgradient norm:\t4.3570e-04\n",
      "iteration:\t600\tdist:\t0.000098035232\tgradient norm:\t4.3222e-04\n",
      "iteration:\t650\tdist:\t0.000097977177\tgradient norm:\t4.2881e-04\n",
      "iteration:\t700\tdist:\t0.000097919874\tgradient norm:\t4.2547e-04\n",
      "iteration:\t750\tdist:\t0.000097863308\tgradient norm:\t4.2219e-04\n",
      "iteration:\t800\tdist:\t0.000097807465\tgradient norm:\t4.1896e-04\n",
      "iteration:\t850\tdist:\t0.000097752329\tgradient norm:\t4.1580e-04\n",
      "iteration:\t900\tdist:\t0.000097697887\tgradient norm:\t4.1270e-04\n",
      "iteration:\t950\tdist:\t0.000097644126\tgradient norm:\t4.0965e-04\n",
      "iteration:\t1000\tdist:\t0.000097591031\tgradient norm:\t4.0666e-04\n",
      "iteration:\t1050\tdist:\t0.000097538591\tgradient norm:\t4.0371e-04\n",
      "iteration:\t1100\tdist:\t0.000097486793\tgradient norm:\t4.0082e-04\n",
      "iteration:\t1150\tdist:\t0.000097435624\tgradient norm:\t3.9798e-04\n",
      "iteration:\t1200\tdist:\t0.000097385072\tgradient norm:\t3.9519e-04\n",
      "iteration:\t1250\tdist:\t0.000097335126\tgradient norm:\t3.9245e-04\n",
      "iteration:\t1300\tdist:\t0.000097285775\tgradient norm:\t3.8976e-04\n",
      "iteration:\t1350\tdist:\t0.000097237008\tgradient norm:\t3.8710e-04\n",
      "iteration:\t1400\tdist:\t0.000097188813\tgradient norm:\t3.8450e-04\n",
      "iteration:\t1450\tdist:\t0.000097141181\tgradient norm:\t3.8193e-04\n",
      "iteration:\t1500\tdist:\t0.000097094102\tgradient norm:\t3.7941e-04\n",
      "iteration:\t1550\tdist:\t0.000097047564\tgradient norm:\t3.7693e-04\n",
      "iteration:\t1600\tdist:\t0.000097001559\tgradient norm:\t3.7449e-04\n",
      "iteration:\t1650\tdist:\t0.000096956078\tgradient norm:\t3.7209e-04\n",
      "iteration:\t1700\tdist:\t0.000096911110\tgradient norm:\t3.6972e-04\n",
      "iteration:\t1750\tdist:\t0.000096866647\tgradient norm:\t3.6739e-04\n",
      "iteration:\t1800\tdist:\t0.000096822681\tgradient norm:\t3.6510e-04\n",
      "iteration:\t1850\tdist:\t0.000096779202\tgradient norm:\t3.6285e-04\n",
      "iteration:\t1900\tdist:\t0.000096736202\tgradient norm:\t3.6063e-04\n",
      "iteration:\t1950\tdist:\t0.000096693674\tgradient norm:\t3.5844e-04\n",
      "iteration:\t2000\tdist:\t0.000096651608\tgradient norm:\t3.5628e-04\n",
      "iteration:\t2050\tdist:\t0.000096609998\tgradient norm:\t3.5416e-04\n",
      "iteration:\t2100\tdist:\t0.000096568835\tgradient norm:\t3.5207e-04\n",
      "iteration:\t2150\tdist:\t0.000096528113\tgradient norm:\t3.5001e-04\n",
      "iteration:\t2200\tdist:\t0.000096487824\tgradient norm:\t3.4798e-04\n",
      "iteration:\t2250\tdist:\t0.000096447960\tgradient norm:\t3.4598e-04\n",
      "iteration:\t2300\tdist:\t0.000096408516\tgradient norm:\t3.4401e-04\n",
      "iteration:\t2350\tdist:\t0.000096369483\tgradient norm:\t3.4207e-04\n",
      "iteration:\t2400\tdist:\t0.000096330856\tgradient norm:\t3.4015e-04\n",
      "iteration:\t2450\tdist:\t0.000096292628\tgradient norm:\t3.3827e-04\n",
      "iteration:\t2500\tdist:\t0.000096254793\tgradient norm:\t3.3640e-04\n",
      "iteration:\t2550\tdist:\t0.000096217344\tgradient norm:\t3.3457e-04\n",
      "iteration:\t2600\tdist:\t0.000096180275\tgradient norm:\t3.3276e-04\n",
      "iteration:\t2650\tdist:\t0.000096143581\tgradient norm:\t3.3097e-04\n",
      "iteration:\t2700\tdist:\t0.000096107256\tgradient norm:\t3.2921e-04\n",
      "iteration:\t2750\tdist:\t0.000096071293\tgradient norm:\t3.2747e-04\n",
      "iteration:\t2800\tdist:\t0.000096035688\tgradient norm:\t3.2576e-04\n",
      "iteration:\t2850\tdist:\t0.000096000434\tgradient norm:\t3.2407e-04\n",
      "iteration:\t2900\tdist:\t0.000095965528\tgradient norm:\t3.2240e-04\n",
      "iteration:\t2950\tdist:\t0.000095930962\tgradient norm:\t3.2075e-04\n",
      "iteration:\t3000\tdist:\t0.000095896733\tgradient norm:\t3.1913e-04\n",
      "iteration:\t3050\tdist:\t0.000095862835\tgradient norm:\t3.1753e-04\n",
      "iteration:\t3100\tdist:\t0.000095829263\tgradient norm:\t3.1594e-04\n",
      "iteration:\t3150\tdist:\t0.000095796012\tgradient norm:\t3.1438e-04\n",
      "iteration:\t3200\tdist:\t0.000095763079\tgradient norm:\t3.1284e-04\n",
      "iteration:\t3250\tdist:\t0.000095730457\tgradient norm:\t3.1131e-04\n",
      "iteration:\t3300\tdist:\t0.000095698472\tgradient norm:\t3.0816e-04\n",
      "iteration:\t3350\tdist:\t0.000095667074\tgradient norm:\t3.0676e-04\n",
      "iteration:\t3400\tdist:\t0.000095635948\tgradient norm:\t3.0537e-04\n",
      "iteration:\t3450\tdist:\t0.000095605089\tgradient norm:\t3.0400e-04\n",
      "iteration:\t3500\tdist:\t0.000095574454\tgradient norm:\t3.0378e-04\n",
      "iteration:\t3550\tdist:\t0.000095543711\tgradient norm:\t3.0238e-04\n",
      "iteration:\t3600\tdist:\t0.000095513245\tgradient norm:\t3.0100e-04\n",
      "iteration:\t3650\tdist:\t0.000095483052\tgradient norm:\t2.9963e-04\n",
      "iteration:\t3700\tdist:\t0.000095453127\tgradient norm:\t2.9828e-04\n",
      "iteration:\t3750\tdist:\t0.000095423467\tgradient norm:\t2.9695e-04\n",
      "iteration:\t3800\tdist:\t0.000095394070\tgradient norm:\t2.9563e-04\n",
      "iteration:\t3850\tdist:\t0.000095364930\tgradient norm:\t2.9433e-04\n",
      "iteration:\t3900\tdist:\t0.000095334621\tgradient norm:\t3.0039e-04\n",
      "iteration:\t3950\tdist:\t0.000095302335\tgradient norm:\t2.9888e-04\n",
      "iteration:\t4000\tdist:\t0.000095270388\tgradient norm:\t2.9739e-04\n",
      "iteration:\t4050\tdist:\t0.000095238774\tgradient norm:\t2.9592e-04\n",
      "iteration:\t4100\tdist:\t0.000095207487\tgradient norm:\t2.9447e-04\n",
      "iteration:\t4150\tdist:\t0.000095176523\tgradient norm:\t2.9304e-04\n",
      "iteration:\t4200\tdist:\t0.000095145876\tgradient norm:\t2.9162e-04\n",
      "iteration:\t4250\tdist:\t0.000095115542\tgradient norm:\t2.9023e-04\n",
      "iteration:\t4300\tdist:\t0.000095085514\tgradient norm:\t2.8886e-04\n",
      "iteration:\t4350\tdist:\t0.000095055789\tgradient norm:\t2.8750e-04\n",
      "iteration:\t4400\tdist:\t0.000095026361\tgradient norm:\t2.8616e-04\n",
      "iteration:\t4450\tdist:\t0.000094997227\tgradient norm:\t2.8484e-04\n",
      "iteration:\t4500\tdist:\t0.000094968381\tgradient norm:\t2.8353e-04\n",
      "iteration:\t4550\tdist:\t0.000094939819\tgradient norm:\t2.8224e-04\n",
      "iteration:\t4600\tdist:\t0.000094911536\tgradient norm:\t2.8097e-04\n",
      "iteration:\t4650\tdist:\t0.000094883530\tgradient norm:\t2.7971e-04\n",
      "iteration:\t4700\tdist:\t0.000094855794\tgradient norm:\t2.7847e-04\n",
      "iteration:\t4750\tdist:\t0.000094828326\tgradient norm:\t2.7725e-04\n",
      "iteration:\t4800\tdist:\t0.000094801121\tgradient norm:\t2.7604e-04\n",
      "iteration:\t4850\tdist:\t0.000094774175\tgradient norm:\t2.7484e-04\n",
      "iteration:\t4900\tdist:\t0.000094747485\tgradient norm:\t2.7366e-04\n",
      "iteration:\t4950\tdist:\t0.000094721047\tgradient norm:\t2.7249e-04\n",
      "iteration:\t5000\tdist:\t0.000094694857\tgradient norm:\t2.7134e-04\n",
      "iteration:\t5050\tdist:\t0.000094668911\tgradient norm:\t2.7020e-04\n",
      "iteration:\t5100\tdist:\t0.000094643207\tgradient norm:\t2.6908e-04\n",
      "iteration:\t5150\tdist:\t0.000094617740\tgradient norm:\t2.6796e-04\n",
      "iteration:\t5200\tdist:\t0.000094592507\tgradient norm:\t2.6686e-04\n",
      "iteration:\t5250\tdist:\t0.000094567505\tgradient norm:\t2.6578e-04\n",
      "iteration:\t5300\tdist:\t0.000094542730\tgradient norm:\t2.6470e-04\n",
      "iteration:\t5350\tdist:\t0.000094518180\tgradient norm:\t2.6364e-04\n",
      "iteration:\t5400\tdist:\t0.000094493852\tgradient norm:\t2.6259e-04\n",
      "iteration:\t5450\tdist:\t0.000094469741\tgradient norm:\t2.6155e-04\n",
      "iteration:\t5500\tdist:\t0.000094445846\tgradient norm:\t2.6053e-04\n",
      "iteration:\t5550\tdist:\t0.000094422163\tgradient norm:\t2.5951e-04\n",
      "iteration:\t5600\tdist:\t0.000094398689\tgradient norm:\t2.5851e-04\n",
      "iteration:\t5650\tdist:\t0.000094375422\tgradient norm:\t2.5752e-04\n",
      "iteration:\t5700\tdist:\t0.000094352358\tgradient norm:\t2.5653e-04\n",
      "iteration:\t5750\tdist:\t0.000094329496\tgradient norm:\t2.5556e-04\n",
      "iteration:\t5800\tdist:\t0.000094306832\tgradient norm:\t2.5460e-04\n",
      "iteration:\t5850\tdist:\t0.000094284363\tgradient norm:\t2.5365e-04\n",
      "iteration:\t5900\tdist:\t0.000094262088\tgradient norm:\t2.5272e-04\n",
      "iteration:\t5950\tdist:\t0.000094240003\tgradient norm:\t2.5179e-04\n",
      "iteration:\t6000\tdist:\t0.000094218106\tgradient norm:\t2.5087e-04\n",
      "iteration:\t6050\tdist:\t0.000094196395\tgradient norm:\t2.4996e-04\n",
      "iteration:\t6100\tdist:\t0.000094174867\tgradient norm:\t2.4906e-04\n",
      "iteration:\t6150\tdist:\t0.000094153519\tgradient norm:\t2.4817e-04\n",
      "iteration:\t6200\tdist:\t0.000094132350\tgradient norm:\t2.4729e-04\n",
      "iteration:\t6250\tdist:\t0.000094111358\tgradient norm:\t2.4642e-04\n",
      "iteration:\t6300\tdist:\t0.000094090539\tgradient norm:\t2.4555e-04\n",
      "iteration:\t6350\tdist:\t0.000094069892\tgradient norm:\t2.4470e-04\n",
      "iteration:\t6400\tdist:\t0.000094049415\tgradient norm:\t2.4385e-04\n",
      "iteration:\t6450\tdist:\t0.000094029105\tgradient norm:\t2.4302e-04\n",
      "iteration:\t6500\tdist:\t0.000094008961\tgradient norm:\t2.4219e-04\n",
      "iteration:\t6550\tdist:\t0.000093988979\tgradient norm:\t2.4137e-04\n"
     ]
    },
    {
     "name": "stdout",
     "output_type": "stream",
     "text": [
      "iteration:\t6600\tdist:\t0.000093969160\tgradient norm:\t2.4056e-04\n",
      "iteration:\t6650\tdist:\t0.000093949499\tgradient norm:\t2.3975e-04\n",
      "iteration:\t6700\tdist:\t0.000093929996\tgradient norm:\t2.3896e-04\n",
      "iteration:\t6750\tdist:\t0.000093910649\tgradient norm:\t2.3817e-04\n",
      "iteration:\t6800\tdist:\t0.000093891455\tgradient norm:\t2.3739e-04\n",
      "iteration:\t6850\tdist:\t0.000093872412\tgradient norm:\t2.3662e-04\n",
      "iteration:\t6900\tdist:\t0.000093853520\tgradient norm:\t2.3586e-04\n",
      "iteration:\t6950\tdist:\t0.000093834775\tgradient norm:\t2.3510e-04\n",
      "iteration:\t7000\tdist:\t0.000093816178\tgradient norm:\t2.3435e-04\n",
      "iteration:\t7050\tdist:\t0.000093797724\tgradient norm:\t2.3361e-04\n",
      "iteration:\t7100\tdist:\t0.000093779414\tgradient norm:\t2.3287e-04\n",
      "iteration:\t7150\tdist:\t0.000093761245\tgradient norm:\t2.3214e-04\n",
      "iteration:\t7200\tdist:\t0.000093743215\tgradient norm:\t2.3142e-04\n",
      "iteration:\t7250\tdist:\t0.000093725323\tgradient norm:\t2.3071e-04\n",
      "iteration:\t7300\tdist:\t0.000093707568\tgradient norm:\t2.3000e-04\n",
      "iteration:\t7350\tdist:\t0.000093689947\tgradient norm:\t2.2930e-04\n",
      "iteration:\t7400\tdist:\t0.000093672460\tgradient norm:\t2.2860e-04\n",
      "iteration:\t7450\tdist:\t0.000093655104\tgradient norm:\t2.2791e-04\n",
      "iteration:\t7500\tdist:\t0.000093637879\tgradient norm:\t2.2723e-04\n",
      "iteration:\t7550\tdist:\t0.000093620782\tgradient norm:\t2.2656e-04\n",
      "iteration:\t7600\tdist:\t0.000093603813\tgradient norm:\t2.2589e-04\n",
      "iteration:\t7650\tdist:\t0.000093586969\tgradient norm:\t2.2522e-04\n",
      "iteration:\t7700\tdist:\t0.000093570250\tgradient norm:\t2.2457e-04\n",
      "iteration:\t7750\tdist:\t0.000093553654\tgradient norm:\t2.2391e-04\n",
      "iteration:\t7800\tdist:\t0.000093537180\tgradient norm:\t2.2327e-04\n",
      "iteration:\t7850\tdist:\t0.000093520826\tgradient norm:\t2.2263e-04\n",
      "iteration:\t7900\tdist:\t0.000093504590\tgradient norm:\t2.2200e-04\n",
      "iteration:\t7950\tdist:\t0.000093488473\tgradient norm:\t2.2137e-04\n",
      "iteration:\t8000\tdist:\t0.000093472472\tgradient norm:\t2.2074e-04\n",
      "iteration:\t8050\tdist:\t0.000093456586\tgradient norm:\t2.2013e-04\n",
      "iteration:\t8100\tdist:\t0.000093440814\tgradient norm:\t2.1951e-04\n",
      "iteration:\t8150\tdist:\t0.000093425155\tgradient norm:\t2.1891e-04\n",
      "iteration:\t8200\tdist:\t0.000093409607\tgradient norm:\t2.1831e-04\n",
      "iteration:\t8250\tdist:\t0.000093394170\tgradient norm:\t2.1771e-04\n",
      "iteration:\t8300\tdist:\t0.000093378842\tgradient norm:\t2.1712e-04\n",
      "iteration:\t8350\tdist:\t0.000093363621\tgradient norm:\t2.1653e-04\n",
      "iteration:\t8400\tdist:\t0.000093348507\tgradient norm:\t2.1595e-04\n",
      "iteration:\t8450\tdist:\t0.000093333500\tgradient norm:\t2.1537e-04\n",
      "iteration:\t8500\tdist:\t0.000093318596\tgradient norm:\t2.1480e-04\n",
      "iteration:\t8550\tdist:\t0.000093303796\tgradient norm:\t2.1424e-04\n",
      "iteration:\t8600\tdist:\t0.000093289099\tgradient norm:\t2.1368e-04\n",
      "iteration:\t8650\tdist:\t0.000093274503\tgradient norm:\t2.1312e-04\n",
      "iteration:\t8700\tdist:\t0.000093260007\tgradient norm:\t2.1257e-04\n",
      "iteration:\t8750\tdist:\t0.000093245610\tgradient norm:\t2.1202e-04\n",
      "iteration:\t8800\tdist:\t0.000093231312\tgradient norm:\t2.1148e-04\n",
      "iteration:\t8850\tdist:\t0.000093217110\tgradient norm:\t2.1094e-04\n",
      "iteration:\t8900\tdist:\t0.000093203006\tgradient norm:\t2.1040e-04\n",
      "iteration:\t8950\tdist:\t0.000093188996\tgradient norm:\t2.0987e-04\n",
      "iteration:\t9000\tdist:\t0.000093175081\tgradient norm:\t2.0935e-04\n",
      "iteration:\t9050\tdist:\t0.000093161483\tgradient norm:\t2.0796e-04\n",
      "iteration:\t9100\tdist:\t0.000093148154\tgradient norm:\t2.0746e-04\n",
      "iteration:\t9150\tdist:\t0.000093134909\tgradient norm:\t2.0697e-04\n",
      "iteration:\t9200\tdist:\t0.000093121747\tgradient norm:\t2.0649e-04\n",
      "iteration:\t9250\tdist:\t0.000093108667\tgradient norm:\t2.0600e-04\n",
      "iteration:\t9300\tdist:\t0.000093095668\tgradient norm:\t2.0552e-04\n",
      "iteration:\t9350\tdist:\t0.000093082750\tgradient norm:\t2.0505e-04\n",
      "iteration:\t9400\tdist:\t0.000093069912\tgradient norm:\t2.0458e-04\n",
      "iteration:\t9450\tdist:\t0.000093057153\tgradient norm:\t2.0411e-04\n",
      "iteration:\t9500\tdist:\t0.000093044473\tgradient norm:\t2.0364e-04\n",
      "iteration:\t9550\tdist:\t0.000093031870\tgradient norm:\t2.0318e-04\n",
      "iteration:\t9600\tdist:\t0.000093019345\tgradient norm:\t2.0272e-04\n",
      "iteration:\t9650\tdist:\t0.000093006896\tgradient norm:\t2.0227e-04\n",
      "iteration:\t9700\tdist:\t0.000092994522\tgradient norm:\t2.0181e-04\n",
      "iteration:\t9750\tdist:\t0.000092982223\tgradient norm:\t2.0137e-04\n",
      "iteration:\t9800\tdist:\t0.000092969999\tgradient norm:\t2.0092e-04\n",
      "iteration:\t9850\tdist:\t0.000092957848\tgradient norm:\t2.0048e-04\n",
      "iteration:\t9900\tdist:\t0.000092945770\tgradient norm:\t2.0004e-04\n",
      "iteration:\t9950\tdist:\t0.000092933765\tgradient norm:\t1.9960e-04\n",
      "iteration:\t10000\tdist:\t0.000092921831\tgradient norm:\t1.9917e-04\n",
      "Warning: gradient descent did not converge!\n"
     ]
    }
   ],
   "source": [
    "E1, At = o.optimiseDensityGradDescent(rhodt, D, eps=1e-1, A0=A0, tol=1e-5, maxIter=1e3)"
   ]
  },
  {
   "cell_type": "code",
   "execution_count": null,
   "id": "f11ad6d2",
   "metadata": {},
   "outputs": [],
   "source": []
  }
 ],
 "metadata": {
  "kernelspec": {
   "display_name": "Python 3 (ipykernel)",
   "language": "python",
   "name": "python3"
  },
  "language_info": {
   "codemirror_mode": {
    "name": "ipython",
    "version": 3
   },
   "file_extension": ".py",
   "mimetype": "text/x-python",
   "name": "python",
   "nbconvert_exporter": "python",
   "pygments_lexer": "ipython3",
   "version": "3.8.10"
  }
 },
 "nbformat": 4,
 "nbformat_minor": 5
}
