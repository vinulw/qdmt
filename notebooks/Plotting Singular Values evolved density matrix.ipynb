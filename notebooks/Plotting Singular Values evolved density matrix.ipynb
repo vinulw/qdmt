{
 "cells": [
  {
   "cell_type": "markdown",
   "id": "1ef4e0b5",
   "metadata": {},
   "source": [
    "# Plotting density operator spectrum"
   ]
  },
  {
   "cell_type": "code",
   "execution_count": 1,
   "id": "9ed9e625",
   "metadata": {},
   "outputs": [],
   "source": [
    "import numpy as np\n",
    "import matplotlib.pyplot as plt"
   ]
  },
  {
   "cell_type": "markdown",
   "id": "99db259e",
   "metadata": {},
   "source": [
    "## With Evolution"
   ]
  },
  {
   "cell_type": "code",
   "execution_count": 2,
   "id": "5b7d6690",
   "metadata": {},
   "outputs": [],
   "source": [
    "fname = '../data/singular_vals.npy'\n",
    "data = np.load(fname)"
   ]
  },
  {
   "cell_type": "code",
   "execution_count": 3,
   "id": "c94b35dd",
   "metadata": {},
   "outputs": [
    {
     "data": {
      "text/plain": [
       "(100, 4)"
      ]
     },
     "execution_count": 3,
     "metadata": {},
     "output_type": "execute_result"
    }
   ],
   "source": [
    "data.shape"
   ]
  },
  {
   "cell_type": "code",
   "execution_count": 4,
   "id": "6ded317c",
   "metadata": {},
   "outputs": [],
   "source": [
    "datalog = np.log10(data)"
   ]
  },
  {
   "cell_type": "code",
   "execution_count": 5,
   "id": "350cfa2e",
   "metadata": {},
   "outputs": [
    {
     "name": "stdout",
     "output_type": "stream",
     "text": [
      "[-4.23259025e-03 -3.08356786e+00 -3.31134150e+00 -5.74805420e+00]\n",
      "[0.00494028 0.66069477 0.67264066 0.96128269]\n"
     ]
    }
   ],
   "source": [
    "avgs = np.mean(datalog, axis=0)\n",
    "stds = np.std(datalog, axis=0)\n",
    "print(avgs)\n",
    "print(stds)"
   ]
  },
  {
   "cell_type": "code",
   "execution_count": 6,
   "id": "4aa31be0",
   "metadata": {},
   "outputs": [
    {
     "data": {
      "image/png": "[encoded data removed]",
      "text/plain": [
       "<Figure size 432x288 with 1 Axes>"
      ]
     },
     "metadata": {
      "needs_background": "light"
     },
     "output_type": "display_data"
    }
   ],
   "source": [
    "x = [1, 2, 3, 4]\n",
    "for d in datalog:\n",
    "    plt.scatter(x, d, c='gray', alpha=0.1)\n",
    "\n",
    "plt.errorbar(x, avgs, yerr=stds, capsize=5.0, marker='o', ls='None', c='#1f3f6a')\n",
    "plt.show()"
   ]
  },
  {
   "cell_type": "markdown",
   "id": "e1cbc436",
   "metadata": {},
   "source": [
    "## Without Evolution"
   ]
  },
  {
   "cell_type": "code",
   "execution_count": 7,
   "id": "d8fe2b0c",
   "metadata": {},
   "outputs": [],
   "source": [
    "fname = '../data/singular_vals_no_evolution.npy'\n",
    "data = np.load(fname)"
   ]
  },
  {
   "cell_type": "code",
   "execution_count": 8,
   "id": "46513617",
   "metadata": {},
   "outputs": [
    {
     "name": "stdout",
     "output_type": "stream",
     "text": [
      "[-1.49664866e-03 -3.15655938e+00 -3.36556660e+00 -5.99254535e+00]\n",
      "[0.00231916 0.79797995 0.78101394 1.17566173]\n"
     ]
    }
   ],
   "source": [
    "datalog = np.log10(data)\n",
    "avgs = np.mean(datalog, axis=0)\n",
    "stds = np.std(datalog, axis=0)\n",
    "print(avgs)\n",
    "print(stds)"
   ]
  },
  {
   "cell_type": "code",
   "execution_count": 9,
   "id": "fd0ca232",
   "metadata": {
    "scrolled": true
   },
   "outputs": [
    {
     "data": {
      "image/png": "[encoded data removed]",
      "text/plain": [
       "<Figure size 432x288 with 1 Axes>"
      ]
     },
     "metadata": {
      "needs_background": "light"
     },
     "output_type": "display_data"
    }
   ],
   "source": [
    "x = [1, 2, 3, 4]\n",
    "for d in datalog:\n",
    "    plt.scatter(x, d, c='gray', alpha=0.1)\n",
    "\n",
    "plt.errorbar(x, avgs, yerr=stds, capsize=5.0, marker='o', ls='None', c='#1f3f6a')\n",
    "plt.show()"
   ]
  },
  {
   "cell_type": "code",
   "execution_count": null,
   "id": "bfacafb9",
   "metadata": {},
   "outputs": [],
   "source": []
  }
 ],
 "metadata": {
  "kernelspec": {
   "display_name": "Python 3 (ipykernel)",
   "language": "python",
   "name": "python3"
  },
  "language_info": {
   "codemirror_mode": {
    "name": "ipython",
    "version": 3
   },
   "file_extension": ".py",
   "mimetype": "text/x-python",
   "name": "python",
   "nbconvert_exporter": "python",
   "pygments_lexer": "ipython3",
   "version": "3.8.10"
  }
 },
 "nbformat": 4,
 "nbformat_minor": 5
}
