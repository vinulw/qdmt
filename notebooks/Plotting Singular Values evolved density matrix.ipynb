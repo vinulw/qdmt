{
 "cells": [
  {
   "cell_type": "markdown",
   "id": "1ef4e0b5",
   "metadata": {},
   "source": [
    "# Plotting density operator spectrum"
   ]
  },
  {
   "cell_type": "markdown",
   "id": "4015275b",
   "metadata": {},
   "source": [
    "Looking at the energy spectrums of the density matrices to see if this explains why VUMPS is having trouble converging. \n",
    "\n",
    "Data taken from `qdmt/spectrum.py`"
   ]
  },
  {
   "cell_type": "code",
   "execution_count": 3,
   "id": "9ed9e625",
   "metadata": {},
   "outputs": [],
   "source": [
    "import numpy as np\n",
    "import matplotlib.pyplot as plt"
   ]
  },
  {
   "cell_type": "markdown",
   "id": "99db259e",
   "metadata": {},
   "source": [
    "## With Evolution"
   ]
  },
  {
   "cell_type": "code",
   "execution_count": 16,
   "id": "5b7d6690",
   "metadata": {},
   "outputs": [],
   "source": [
    "fname = '../data/singular_vals.npy'\n",
    "data = np.load(fname)"
   ]
  },
  {
   "cell_type": "code",
   "execution_count": 17,
   "id": "c94b35dd",
   "metadata": {},
   "outputs": [
    {
     "data": {
      "text/plain": [
       "(100, 4)"
      ]
     },
     "execution_count": 17,
     "metadata": {},
     "output_type": "execute_result"
    }
   ],
   "source": [
    "data.shape"
   ]
  },
  {
   "cell_type": "code",
   "execution_count": 18,
   "id": "330df1c8",
   "metadata": {},
   "outputs": [
    {
     "data": {
      "text/plain": [
       "array([9.97846411e-01, 1.89584325e-04, 1.41592003e-04, 2.88121484e-07])"
      ]
     },
     "execution_count": 18,
     "metadata": {},
     "output_type": "execute_result"
    }
   ],
   "source": [
    "data[0]"
   ]
  },
  {
   "cell_type": "code",
   "execution_count": null,
   "id": "df5d3f79",
   "metadata": {},
   "outputs": [],
   "source": []
  },
  {
   "cell_type": "code",
   "execution_count": 11,
   "id": "6ded317c",
   "metadata": {},
   "outputs": [],
   "source": [
    "datalog = np.log10(data)"
   ]
  },
  {
   "cell_type": "code",
   "execution_count": 12,
   "id": "350cfa2e",
   "metadata": {},
   "outputs": [
    {
     "name": "stdout",
     "output_type": "stream",
     "text": [
      "[-4.23259025e-03 -3.08356786e+00 -3.31134150e+00 -5.74805420e+00]\n",
      "[0.00494028 0.66069477 0.67264066 0.96128269]\n"
     ]
    }
   ],
   "source": [
    "avgs = np.mean(datalog, axis=0)\n",
    "stds = np.std(datalog, axis=0)\n",
    "print(avgs)\n",
    "print(stds)"
   ]
  },
  {
   "cell_type": "code",
   "execution_count": 13,
   "id": "4aa31be0",
   "metadata": {
    "scrolled": true
   },
   "outputs": [
    {
     "data": {
      "image/png": "[encoded data removed]",
      "text/plain": [
       "<Figure size 432x288 with 1 Axes>"
      ]
     },
     "metadata": {
      "needs_background": "light"
     },
     "output_type": "display_data"
    }
   ],
   "source": [
    "x = [1, 2, 3, 4]\n",
    "for d in datalog:\n",
    "    plt.scatter(x, d, c='gray', alpha=0.1)\n",
    "plt.title('Density with Evolution Spectrum')\n",
    "plt.errorbar(x, avgs, yerr=stds, capsize=5.0, marker='o', ls='None', c='#1f3f6a')\n",
    "plt.show()"
   ]
  },
  {
   "cell_type": "code",
   "execution_count": 14,
   "id": "f09d297c",
   "metadata": {},
   "outputs": [
    {
     "data": {
      "image/png": "[encoded data removed]",
      "text/plain": [
       "<Figure size 432x288 with 1 Axes>"
      ]
     },
     "metadata": {
      "needs_background": "light"
     },
     "output_type": "display_data"
    }
   ],
   "source": [
    "x = [1, 2, 3, 4]\n",
    "for d in data:\n",
    "    plt.scatter(x, d, c='gray', alpha=0.1)\n",
    "plt.title('Density with Evolution Spectrum')\n",
    "#plt.errorbar(x, avgs, yerr=stds, capsize=5.0, marker='o', ls='None', c='#1f3f6a')\n",
    "plt.show()"
   ]
  },
  {
   "cell_type": "code",
   "execution_count": 15,
   "id": "199600dd",
   "metadata": {},
   "outputs": [
    {
     "data": {
      "text/plain": [
       "array([9.97846411e-01, 1.89584325e-04, 1.41592003e-04, 2.88121484e-07])"
      ]
     },
     "execution_count": 15,
     "metadata": {},
     "output_type": "execute_result"
    }
   ],
   "source": [
    "data[0]"
   ]
  },
  {
   "cell_type": "code",
   "execution_count": 30,
   "id": "b183bee8",
   "metadata": {},
   "outputs": [],
   "source": [
    "diff_leading = data[:, 0] - data[:, 1]"
   ]
  },
  {
   "cell_type": "code",
   "execution_count": 31,
   "id": "a9987215",
   "metadata": {},
   "outputs": [
    {
     "data": {
      "text/plain": [
       "(array([ 1.,  0.,  0.,  0.,  1.,  3., 14., 69.,  9.,  3.]),\n",
       " array([0.88077727, 0.89543049, 0.9100837 , 0.92473691, 0.93939012,\n",
       "        0.95404333, 0.96869654, 0.98334976, 0.99800297, 1.01265618,\n",
       "        1.02730939]),\n",
       " <BarContainer object of 10 artists>)"
      ]
     },
     "execution_count": 31,
     "metadata": {},
     "output_type": "execute_result"
    },
    {
     "data": {
      "image/png": "[encoded data removed]",
      "text/plain": [
       "<Figure size 432x288 with 1 Axes>"
      ]
     },
     "metadata": {
      "needs_background": "light"
     },
     "output_type": "display_data"
    }
   ],
   "source": [
    "plt.hist(diff_leading)"
   ]
  },
  {
   "cell_type": "markdown",
   "id": "e1cbc436",
   "metadata": {},
   "source": [
    "## Without Evolution"
   ]
  },
  {
   "cell_type": "code",
   "execution_count": 32,
   "id": "d8fe2b0c",
   "metadata": {},
   "outputs": [],
   "source": [
    "fname = '../data/singular_vals_no_evolution.npy'\n",
    "data = np.load(fname)"
   ]
  },
  {
   "cell_type": "code",
   "execution_count": 33,
   "id": "46513617",
   "metadata": {},
   "outputs": [
    {
     "name": "stdout",
     "output_type": "stream",
     "text": [
      "[-1.49664866e-03 -3.15655938e+00 -3.36556660e+00 -5.99254535e+00]\n",
      "[0.00231916 0.79797995 0.78101394 1.17566173]\n"
     ]
    }
   ],
   "source": [
    "datalog = np.log10(data)\n",
    "avgs = np.mean(datalog, axis=0)\n",
    "stds = np.std(datalog, axis=0)\n",
    "print(avgs)\n",
    "print(stds)"
   ]
  },
  {
   "cell_type": "code",
   "execution_count": 34,
   "id": "fd0ca232",
   "metadata": {
    "scrolled": true
   },
   "outputs": [
    {
     "data": {
      "image/png": "[encoded data removed]",
      "text/plain": [
       "<Figure size 432x288 with 1 Axes>"
      ]
     },
     "metadata": {
      "needs_background": "light"
     },
     "output_type": "display_data"
    }
   ],
   "source": [
    "x = [1, 2, 3, 4]\n",
    "for d in datalog:\n",
    "    plt.scatter(x, d, c='gray', alpha=0.1)\n",
    "plt.title('Density No Evolution Spectrum')\n",
    "plt.errorbar(x, avgs, yerr=stds, capsize=5.0, marker='o', ls='None', c='#1f3f6a')\n",
    "plt.show()"
   ]
  },
  {
   "cell_type": "code",
   "execution_count": 35,
   "id": "67841ef7",
   "metadata": {},
   "outputs": [],
   "source": [
    "diff_leading = data[:, 0] - data[:, 1]"
   ]
  },
  {
   "cell_type": "code",
   "execution_count": 36,
   "id": "3ecf3d09",
   "metadata": {},
   "outputs": [
    {
     "data": {
      "text/plain": [
       "(array([ 1.,  0.,  0.,  0.,  0.,  0.,  3.,  5., 16., 75.]),\n",
       " array([0.92579249, 0.93321248, 0.94063247, 0.94805245, 0.95547244,\n",
       "        0.96289243, 0.97031241, 0.9777324 , 0.98515239, 0.99257237,\n",
       "        0.99999236]),\n",
       " <BarContainer object of 10 artists>)"
      ]
     },
     "execution_count": 36,
     "metadata": {},
     "output_type": "execute_result"
    },
    {
     "data": {
      "image/png": "[encoded data removed]",
      "text/plain": [
       "<Figure size 432x288 with 1 Axes>"
      ]
     },
     "metadata": {
      "needs_background": "light"
     },
     "output_type": "display_data"
    }
   ],
   "source": [
    "plt.hist(diff_leading)"
   ]
  },
  {
   "cell_type": "markdown",
   "id": "7d66621d",
   "metadata": {},
   "source": [
    "## Hamiltonian"
   ]
  },
  {
   "cell_type": "code",
   "execution_count": 37,
   "id": "e0e811c1",
   "metadata": {},
   "outputs": [],
   "source": [
    "fname = '../data/singular_vals_ham.npy'\n",
    "data = np.load(fname)"
   ]
  },
  {
   "cell_type": "code",
   "execution_count": 38,
   "id": "e2adcef9",
   "metadata": {},
   "outputs": [
    {
     "name": "stdout",
     "output_type": "stream",
     "text": [
      "[ 1.24024787e-01  1.24024787e-01  2.60368416e-17 -5.01450283e-17]\n",
      "[8.55041127e-02 8.55041127e-02 6.66084373e-17 6.71299373e-17]\n"
     ]
    }
   ],
   "source": [
    "datalog = np.log10(data)\n",
    "avgs = np.mean(datalog, axis=0)\n",
    "stds = np.std(datalog, axis=0)\n",
    "print(avgs)\n",
    "print(stds)"
   ]
  },
  {
   "cell_type": "code",
   "execution_count": 39,
   "id": "c844eeff",
   "metadata": {},
   "outputs": [
    {
     "data": {
      "image/png": "[encoded data removed]",
      "text/plain": [
       "<Figure size 432x288 with 1 Axes>"
      ]
     },
     "metadata": {
      "needs_background": "light"
     },
     "output_type": "display_data"
    }
   ],
   "source": [
    "x = [1, 2, 3, 4]\n",
    "for d in datalog:\n",
    "    plt.scatter(x, d, c='gray', alpha=0.1)\n",
    "plt.title('Hamiltonian Spectrum')\n",
    "plt.errorbar(x, avgs, yerr=stds, capsize=5.0, marker='o', ls='None', c='#1f3f6a')\n",
    "plt.show()"
   ]
  },
  {
   "cell_type": "code",
   "execution_count": 40,
   "id": "3b4b2f23",
   "metadata": {},
   "outputs": [],
   "source": [
    "diff_leading = data[:, 0] - data[:, 1]"
   ]
  },
  {
   "cell_type": "code",
   "execution_count": 41,
   "id": "649f89f5",
   "metadata": {},
   "outputs": [
    {
     "data": {
      "text/plain": [
       "(array([38.,  0., 40.,  0.,  0., 13.,  0.,  5.,  0.,  4.]),\n",
       " array([0.00000000e+00, 8.88178420e-17, 1.77635684e-16, 2.66453526e-16,\n",
       "        3.55271368e-16, 4.44089210e-16, 5.32907052e-16, 6.21724894e-16,\n",
       "        7.10542736e-16, 7.99360578e-16, 8.88178420e-16]),\n",
       " <BarContainer object of 10 artists>)"
      ]
     },
     "execution_count": 41,
     "metadata": {},
     "output_type": "execute_result"
    },
    {
     "data": {
      "image/png": "[encoded data removed]",
      "text/plain": [
       "<Figure size 432x288 with 1 Axes>"
      ]
     },
     "metadata": {
      "needs_background": "light"
     },
     "output_type": "display_data"
    }
   ],
   "source": [
    "plt.hist(diff_leading)"
   ]
  },
  {
   "cell_type": "markdown",
   "id": "e050ba07",
   "metadata": {},
   "source": [
    "## Shifting by Identity Singular Values"
   ]
  },
  {
   "cell_type": "code",
   "execution_count": 13,
   "id": "75dd1de0",
   "metadata": {},
   "outputs": [],
   "source": [
    "fname = '../data/singular_vals_no_change.npy'\n",
    "data = np.load(fname)"
   ]
  },
  {
   "cell_type": "code",
   "execution_count": 14,
   "id": "7dc5cbec",
   "metadata": {},
   "outputs": [
    {
     "name": "stdout",
     "output_type": "stream",
     "text": [
      "[-1.61794355e-03 -3.18198766e+00 -3.39259914e+00 -6.07198861e+00]\n",
      "[0.00231829 0.89131272 0.89483787 1.40064276]\n"
     ]
    }
   ],
   "source": [
    "datalog = np.log10(data)\n",
    "avgs = np.mean(datalog, axis=0)\n",
    "stds = np.std(datalog, axis=0)\n",
    "print(avgs)\n",
    "print(stds)"
   ]
  },
  {
   "cell_type": "code",
   "execution_count": 15,
   "id": "145266ff",
   "metadata": {},
   "outputs": [
    {
     "data": {
      "image/png": "[encoded data removed]",
      "text/plain": [
       "<Figure size 432x288 with 1 Axes>"
      ]
     },
     "metadata": {
      "needs_background": "light"
     },
     "output_type": "display_data"
    }
   ],
   "source": [
    "x = [1, 2, 3, 4]\n",
    "for d in datalog:\n",
    "    plt.scatter(x, d, c='gray', alpha=0.1)\n",
    "plt.title('rho - I Spectrum')\n",
    "plt.errorbar(x, avgs, yerr=stds, capsize=5.0, marker='o', ls='None', c='#1f3f6a')\n",
    "plt.show()"
   ]
  },
  {
   "cell_type": "code",
   "execution_count": 16,
   "id": "ebb06a8a",
   "metadata": {},
   "outputs": [
    {
     "data": {
      "image/png": "[encoded data removed]",
      "text/plain": [
       "<Figure size 432x288 with 1 Axes>"
      ]
     },
     "metadata": {
      "needs_background": "light"
     },
     "output_type": "display_data"
    }
   ],
   "source": [
    "x = [1, 2, 3, 4]\n",
    "for d in data:\n",
    "    plt.scatter(x, d, c='gray', alpha=0.1)\n",
    "plt.title('rho Spectrum')\n",
    "#plt.errorbar(x, avgs, yerr=stds, capsize=5.0, marker='o', ls='None', c='#1f3f6a')\n",
    "plt.show()"
   ]
  },
  {
   "cell_type": "code",
   "execution_count": 17,
   "id": "8f5a36b9",
   "metadata": {},
   "outputs": [],
   "source": [
    "fname = '../data/singular_vals_minus_I.npy'\n",
    "data = np.load(fname)"
   ]
  },
  {
   "cell_type": "code",
   "execution_count": 18,
   "id": "eda9593d",
   "metadata": {},
   "outputs": [
    {
     "name": "stdout",
     "output_type": "stream",
     "text": [
      "[-6.70451005e-06 -5.97603818e-04 -1.00950931e-03 -2.96657586e+00]\n",
      "[1.75119079e-05 7.76760923e-04 1.54798962e-03 8.89698356e-01]\n"
     ]
    }
   ],
   "source": [
    "datalog = np.log10(data)\n",
    "avgs = np.mean(datalog, axis=0)\n",
    "stds = np.std(datalog, axis=0)\n",
    "print(avgs)\n",
    "print(stds)"
   ]
  },
  {
   "cell_type": "code",
   "execution_count": 19,
   "id": "9843c501",
   "metadata": {},
   "outputs": [
    {
     "data": {
      "image/png": "[encoded data removed]",
      "text/plain": [
       "<Figure size 432x288 with 1 Axes>"
      ]
     },
     "metadata": {
      "needs_background": "light"
     },
     "output_type": "display_data"
    }
   ],
   "source": [
    "x = [1, 2, 3, 4]\n",
    "for d in datalog:\n",
    "    plt.scatter(x, d, c='gray', alpha=0.1)\n",
    "plt.title('rho Spectrum')\n",
    "plt.errorbar(x, avgs, yerr=stds, capsize=5.0, marker='o', ls='None', c='#1f3f6a')\n",
    "plt.show()"
   ]
  },
  {
   "cell_type": "code",
   "execution_count": 20,
   "id": "3266d1c3",
   "metadata": {},
   "outputs": [
    {
     "data": {
      "image/png": "[encoded data removed]",
      "text/plain": [
       "<Figure size 432x288 with 1 Axes>"
      ]
     },
     "metadata": {
      "needs_background": "light"
     },
     "output_type": "display_data"
    }
   ],
   "source": [
    "x = [1, 2, 3, 4]\n",
    "for d in data:\n",
    "    plt.scatter(x, d, c='gray', alpha=0.1)\n",
    "plt.title('rho - I Spectrum')\n",
    "#plt.errorbar(x, avgs, yerr=stds, capsize=5.0, marker='o', ls='None', c='#1f3f6a')\n",
    "plt.show()"
   ]
  },
  {
   "cell_type": "code",
   "execution_count": null,
   "id": "880e5bab",
   "metadata": {},
   "outputs": [],
   "source": []
  },
  {
   "cell_type": "markdown",
   "id": "8caa8428",
   "metadata": {},
   "source": [
    "## Shifting density matrix (plus)"
   ]
  },
  {
   "cell_type": "code",
   "execution_count": 19,
   "id": "48195c34",
   "metadata": {},
   "outputs": [],
   "source": [
    "fname = '../data/singular_vals_no_change_plus.npy'\n",
    "data = np.load(fname)"
   ]
  },
  {
   "cell_type": "code",
   "execution_count": null,
   "id": "67bff5b6",
   "metadata": {},
   "outputs": [],
   "source": []
  },
  {
   "cell_type": "code",
   "execution_count": 20,
   "id": "24eddf1d",
   "metadata": {},
   "outputs": [
    {
     "name": "stdout",
     "output_type": "stream",
     "text": [
      "[-2.24228272e-03 -3.15037494e+00 -3.37557022e+00 -5.89820197e+00]\n",
      "[0.00343375 0.93129726 0.93121629 1.45372508]\n"
     ]
    }
   ],
   "source": [
    "datalog = np.log10(data)\n",
    "avgs = np.mean(datalog, axis=0)\n",
    "stds = np.std(datalog, axis=0)\n",
    "print(avgs)\n",
    "print(stds)"
   ]
  },
  {
   "cell_type": "code",
   "execution_count": 23,
   "id": "7a01248c",
   "metadata": {},
   "outputs": [
    {
     "data": {
      "image/png": "[encoded data removed]",
      "text/plain": [
       "<Figure size 432x288 with 1 Axes>"
      ]
     },
     "metadata": {
      "needs_background": "light"
     },
     "output_type": "display_data"
    }
   ],
   "source": [
    "x = [1, 2, 3, 4]\n",
    "for d in datalog:\n",
    "    plt.scatter(x, d, c='gray', alpha=0.1)\n",
    "plt.title('rho - I Spectrum')\n",
    "plt.errorbar(x, avgs, yerr=stds, capsize=5.0, marker='o', ls='None', c='#1f3f6a')\n",
    "plt.show()"
   ]
  },
  {
   "cell_type": "code",
   "execution_count": 24,
   "id": "2ac02489",
   "metadata": {},
   "outputs": [
    {
     "data": {
      "image/png": "[encoded data removed]",
      "text/plain": [
       "<Figure size 432x288 with 1 Axes>"
      ]
     },
     "metadata": {
      "needs_background": "light"
     },
     "output_type": "display_data"
    }
   ],
   "source": [
    "x = [1, 2, 3, 4]\n",
    "for d in data:\n",
    "    plt.scatter(x, d, c='gray', alpha=0.1)\n",
    "plt.title('rho Spectrum')\n",
    "#plt.errorbar(x, avgs, yerr=stds, capsize=5.0, marker='o', ls='None', c='#1f3f6a')\n",
    "plt.show()"
   ]
  },
  {
   "cell_type": "code",
   "execution_count": 25,
   "id": "d54caf7a",
   "metadata": {},
   "outputs": [],
   "source": [
    "fname = '../data/singular_vals_plus_I.npy'\n",
    "data = np.load(fname)"
   ]
  },
  {
   "cell_type": "code",
   "execution_count": 26,
   "id": "90a763b7",
   "metadata": {},
   "outputs": [
    {
     "name": "stdout",
     "output_type": "stream",
     "text": [
      "[2.99913695e-01 1.39858578e-03 8.01388493e-04 1.28034067e-05]\n",
      "[1.70454289e-03 2.20156042e-03 1.20724168e-03 3.91445771e-05]\n"
     ]
    }
   ],
   "source": [
    "datalog = np.log10(data)\n",
    "avgs = np.mean(datalog, axis=0)\n",
    "stds = np.std(datalog, axis=0)\n",
    "print(avgs)\n",
    "print(stds)"
   ]
  },
  {
   "cell_type": "code",
   "execution_count": 27,
   "id": "e90fc253",
   "metadata": {},
   "outputs": [
    {
     "data": {
      "image/png": "[encoded data removed]",
      "text/plain": [
       "<Figure size 432x288 with 1 Axes>"
      ]
     },
     "metadata": {
      "needs_background": "light"
     },
     "output_type": "display_data"
    }
   ],
   "source": [
    "x = [1, 2, 3, 4]\n",
    "for d in datalog:\n",
    "    plt.scatter(x, d, c='gray', alpha=0.1)\n",
    "plt.title('rho Spectrum')\n",
    "plt.errorbar(x, avgs, yerr=stds, capsize=5.0, marker='o', ls='None', c='#1f3f6a')\n",
    "plt.show()"
   ]
  },
  {
   "cell_type": "code",
   "execution_count": 28,
   "id": "e44eca27",
   "metadata": {},
   "outputs": [
    {
     "data": {
      "image/png": "[encoded data removed]",
      "text/plain": [
       "<Figure size 432x288 with 1 Axes>"
      ]
     },
     "metadata": {
      "needs_background": "light"
     },
     "output_type": "display_data"
    }
   ],
   "source": [
    "x = [1, 2, 3, 4]\n",
    "for d in data:\n",
    "    plt.scatter(x, d, c='gray', alpha=0.1)\n",
    "plt.title('rho - I Spectrum')\n",
    "#plt.errorbar(x, avgs, yerr=stds, capsize=5.0, marker='o', ls='None', c='#1f3f6a')\n",
    "plt.show()"
   ]
  },
  {
   "cell_type": "markdown",
   "id": "93c514c8",
   "metadata": {},
   "source": [
    "$$I - \\rho$$"
   ]
  },
  {
   "cell_type": "code",
   "execution_count": 21,
   "id": "21434ae5",
   "metadata": {},
   "outputs": [],
   "source": [
    "fname = '../data/singular_vals_I_minus_rho.npy'\n",
    "data = np.load(fname)"
   ]
  },
  {
   "cell_type": "code",
   "execution_count": 22,
   "id": "cbaabc17",
   "metadata": {},
   "outputs": [
    {
     "name": "stdout",
     "output_type": "stream",
     "text": [
      "[-2.05524973e-03 -3.06652564e+00 -3.26402776e+00 -5.83403743e+00]\n",
      "[0.00320637 0.84214907 0.89269392 1.30046937]\n"
     ]
    }
   ],
   "source": [
    "datalog = np.log10(data)\n",
    "avgs = np.mean(datalog, axis=0)\n",
    "stds = np.std(datalog, axis=0)\n",
    "print(avgs)\n",
    "print(stds)"
   ]
  },
  {
   "cell_type": "code",
   "execution_count": 23,
   "id": "598c7337",
   "metadata": {},
   "outputs": [
    {
     "data": {
      "text/plain": [
       "array([9.97212586e-01, 1.43628637e-03, 1.35094140e-03, 1.86070869e-07])"
      ]
     },
     "execution_count": 23,
     "metadata": {},
     "output_type": "execute_result"
    }
   ],
   "source": [
    "data[0]"
   ]
  },
  {
   "cell_type": "code",
   "execution_count": 6,
   "id": "e637087e",
   "metadata": {},
   "outputs": [
    {
     "data": {
      "image/png": "[encoded data removed]",
      "text/plain": [
       "<Figure size 432x288 with 1 Axes>"
      ]
     },
     "metadata": {
      "needs_background": "light"
     },
     "output_type": "display_data"
    }
   ],
   "source": [
    "x = [1, 2, 3, 4]\n",
    "for d in datalog:\n",
    "    plt.scatter(x, d, c='gray', alpha=0.1)\n",
    "plt.title('I - rho Spectrum')\n",
    "plt.errorbar(x, avgs, yerr=stds, capsize=5.0, marker='o', ls='None', c='#1f3f6a')\n",
    "plt.show()"
   ]
  },
  {
   "cell_type": "code",
   "execution_count": 8,
   "id": "7f00dfa3",
   "metadata": {},
   "outputs": [
    {
     "data": {
      "image/png": "[encoded data removed]",
      "text/plain": [
       "<Figure size 432x288 with 1 Axes>"
      ]
     },
     "metadata": {
      "needs_background": "light"
     },
     "output_type": "display_data"
    }
   ],
   "source": [
    "x = [1, 2, 3, 4]\n",
    "for d in data:\n",
    "    plt.scatter(x, d, c='gray', alpha=0.1)\n",
    "plt.title('I - rho Spectrum')\n",
    "#plt.errorbar(x, avgs, yerr=stds, capsize=5.0, marker='o', ls='None', c='#1f3f6a')\n",
    "plt.show()"
   ]
  },
  {
   "cell_type": "code",
   "execution_count": null,
   "id": "2c05672b",
   "metadata": {},
   "outputs": [],
   "source": []
  }
 ],
 "metadata": {
  "kernelspec": {
   "display_name": "Python 3 (ipykernel)",
   "language": "python",
   "name": "python3"
  },
  "language_info": {
   "codemirror_mode": {
    "name": "ipython",
    "version": 3
   },
   "file_extension": ".py",
   "mimetype": "text/x-python",
   "name": "python",
   "nbconvert_exporter": "python",
   "pygments_lexer": "ipython3",
   "version": "3.8.10"
  }
 },
 "nbformat": 4,
 "nbformat_minor": 5
}
