{
 "cells": [
  {
   "cell_type": "code",
   "execution_count": 2,
   "id": "928a5c20",
   "metadata": {},
   "outputs": [],
   "source": [
    "import sys\n",
    "sys.path.insert(0, '../qdmt/')"
   ]
  },
  {
   "cell_type": "code",
   "execution_count": null,
   "id": "12e5e854",
   "metadata": {},
   "outputs": [],
   "source": [
    "%load_ext autoreload\n",
    "%autoreload 2"
   ]
  },
  {
   "cell_type": "code",
   "execution_count": 3,
   "id": "95c7fa98",
   "metadata": {},
   "outputs": [],
   "source": [
    "import numpy as np\n",
    "from ncon import ncon\n",
    "import matplotlib.pyplot as plt\n",
    "\n",
    "from vumps import createMPS, normalizeMPS"
   ]
  },
  {
   "cell_type": "code",
   "execution_count": 4,
   "id": "65712fb3",
   "metadata": {},
   "outputs": [],
   "source": [
    "def uniform_to_two_site(A):\n",
    "    TM = ncon([A, A.conj()], ((-1, 1, -3), (-2, 1, -4))).reshape(D**2, D**2)\n",
    "\n",
    "    vals, vecs = np.linalg.eig(TM)\n",
    "    r = vecs[:, 0]\n",
    "    \n",
    "    vals, vecs = np.linalg.eig(TM.T)\n",
    "    l = vecs[:, 0]\n",
    "    \n",
    "    rho = ncon([l.reshape(2, 2), A, A, A.conj(), A.conj(), r.reshape(2, 2)], \n",
    "              ((1, 2), (1, -1, 4), (4, -2, 6), (2, -3, 7), (7, -4, 8), (6, 8)))\n",
    "    return rho"
   ]
  },
  {
   "cell_type": "code",
   "execution_count": 5,
   "id": "54089819",
   "metadata": {},
   "outputs": [],
   "source": [
    "D = 2\n",
    "d = 2\n",
    "\n",
    "A = createMPS(D, d)\n",
    "A = normalizeMPS(A)"
   ]
  },
  {
   "cell_type": "code",
   "execution_count": 6,
   "id": "b6394226",
   "metadata": {},
   "outputs": [],
   "source": [
    "rho = uniform_to_two_site(A)"
   ]
  },
  {
   "cell_type": "code",
   "execution_count": 7,
   "id": "21623f1c",
   "metadata": {},
   "outputs": [
    {
     "name": "stdout",
     "output_type": "stream",
     "text": [
      "(2, 2, 2, 2)\n"
     ]
    }
   ],
   "source": [
    "print(rho.shape)"
   ]
  },
  {
   "cell_type": "code",
   "execution_count": null,
   "id": "9baa795b",
   "metadata": {},
   "outputs": [],
   "source": [
    "def getGradient(rho, B):\n",
    "    '''\n",
    "    Get gradient for trace distance cost function.\n",
    "    '''\n",
    "    pass\n",
    "\n",
    "def "
   ]
  },
  {
   "cell_type": "code",
   "execution_count": null,
   "id": "fc93c611",
   "metadata": {},
   "outputs": [],
   "source": []
  },
  {
   "cell_type": "code",
   "execution_count": null,
   "id": "db442163",
   "metadata": {},
   "outputs": [],
   "source": []
  },
  {
   "cell_type": "code",
   "execution_count": null,
   "id": "0a6ca347",
   "metadata": {},
   "outputs": [],
   "source": []
  },
  {
   "cell_type": "code",
   "execution_count": null,
   "id": "2dd58243",
   "metadata": {},
   "outputs": [],
   "source": []
  }
 ],
 "metadata": {
  "kernelspec": {
   "display_name": "Python 3 (ipykernel)",
   "language": "python",
   "name": "python3"
  },
  "language_info": {
   "codemirror_mode": {
    "name": "ipython",
    "version": 3
   },
   "file_extension": ".py",
   "mimetype": "text/x-python",
   "name": "python",
   "nbconvert_exporter": "python",
   "pygments_lexer": "ipython3",
   "version": "3.8.10"
  }
 },
 "nbformat": 4,
 "nbformat_minor": 5
}
